{
 "cells": [
  {
   "cell_type": "markdown",
   "metadata": {
    "collapsed": true
   },
   "source": [
    "## Tensors\n",
    "\n",
    "* constant tensor `tf.constant()`\n",
    "    * Value of tensor never changes, hence *constant*.\n",
    "    * `tf.constant(1234)` is a 0-dimensional int32 tensor\n",
    "    * `tf.constant([1,2,3,4])` is a 4-dimensional int32 tensor\n",
    "\n",
    "Sample code:\n",
    "```\n",
    "import tensorflow as tf\n",
    "\n",
    "# Create TensorFlow object called tensor\n",
    "hello_constant = tf.constant('Hello World!')\n",
    "```\n",
    "\n",
    "## Session\n",
    "* An environment for running a graph. In charge of allocating the operations to GPU(s) and/or CPU(s).\n",
    "\n",
    "Continuing our example:\n",
    "```\n",
    "with tf.Session() as sess:\n",
    "    output = sess.run(hello_constant)\n",
    "```\n",
    "\n",
    "## Input\n",
    "\n",
    "* `tf.placeholder()`: returns a tensor that gets it’s value from data passed to the `tf.session.run()` function, allowing you to set the input right before the session runs.\n",
    "* `feed_dict`: Use the feed_dict parameter in tf.session.run() to set the placeholder tensor. \n",
    "\n",
    "Example: \n",
    "```\n",
    ">>> a = tf.placeholder(tf.string)\n",
    ">>> b = tf.placeholder(tf.int32)\n",
    ">>> c = tf.placeholder(tf.float32)\n",
    ">>> with tf.Session() as sess:\n",
    "...     output = sess.run(a, feed_dict={a: 'hi', b: 23, c: 32.0})\n",
    "...     print(output)\n",
    "hi\n",
    "```\n",
    "It also works if you feed it only `{a: 'hi'}`, i.e. the relevant placeholder value(s).\n",
    "\n",
    "## Maths\n",
    "\n",
    "```\n",
    "x = tf.add(5, 2) # 7\n",
    "y = tf.sub(10, 4) # 6\n",
    "z = tf.mul(2, 5)  # 10\n",
    "```\n",
    "[TF Math documentation](https://www.tensorflow.org/versions/r0.11/api_docs/python/math_ops.html)"
   ]
  }
 ],
 "metadata": {
  "kernelspec": {
   "display_name": "Python 3",
   "language": "python",
   "name": "python3"
  },
  "language_info": {
   "codemirror_mode": {
    "name": "ipython",
    "version": 3
   },
   "file_extension": ".py",
   "mimetype": "text/x-python",
   "name": "python",
   "nbconvert_exporter": "python",
   "pygments_lexer": "ipython3",
   "version": "3.5.1"
  }
 },
 "nbformat": 4,
 "nbformat_minor": 0
}
