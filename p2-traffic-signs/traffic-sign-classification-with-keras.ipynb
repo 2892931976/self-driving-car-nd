{
 "cells": [
  {
   "cell_type": "markdown",
   "metadata": {},
   "source": [
    "# Traffic Sign Classification with Keras\n",
    "\n",
    "Keras exists to make coding deep neural networks simpler. To demonstrate just how easy it is, you’re going to use Keras to build a convolutional neural network in a few dozen lines of code.\n",
    "\n",
    "You’ll be connecting the concepts from the previous lessons to the methods that Keras provides."
   ]
  },
  {
   "cell_type": "markdown",
   "metadata": {},
   "source": [
    "## Dataset\n",
    "\n",
    "The network you'll build with Keras is similar to the example that you can find in Keras’s GitHub repository that builds out a [convolutional neural network for MNIST](https://github.com/fchollet/keras/blob/master/examples/mnist_cnn.py). \n",
    "\n",
    "However, instead of using the [MNIST](http://yann.lecun.com/exdb/mnist/) dataset, you're going to use the [German Traffic Sign Recognition Benchmark](http://benchmark.ini.rub.de/?section=gtsrb&subsection=news) dataset that you've used previously.\n",
    "\n",
    "You can download pickle files with sanitized traffic sign data here."
   ]
  },
  {
   "cell_type": "markdown",
   "metadata": {},
   "source": [
    "## Overview\n",
    "\n",
    "Here are the steps you'll take to build the network:\n",
    "\n",
    "1. First load the data.\n",
    "2. Build a feedforward neural network to classify traffic signs.\n",
    "3. Build a convolutional neural network to classify traffic signs.\n",
    "\n",
    "Keep an eye on the network’s accuracy over time. Once the accuracy reaches the 98% range, you can be confident that you’ve built and trained an effective model."
   ]
  },
  {
   "cell_type": "markdown",
   "metadata": {},
   "source": [
    "## Load the Data\n",
    "\n",
    "Start by importing the data from the pickle file."
   ]
  },
  {
   "cell_type": "code",
   "execution_count": 49,
   "metadata": {
    "collapsed": false
   },
   "outputs": [],
   "source": [
    "# TODO: Implement load the data here.\n",
    "\n",
    "# Load pickled data\n",
    "import pickle\n",
    "\n",
    "# TODO: fill this in based on where you saved the training and testing data\n",
    "training_file = \"traffic-sign-data/train.p\"\n",
    "testing_file = \"traffic-sign-data/test.p\"\n",
    "\n",
    "with open(training_file, mode='rb') as f:\n",
    "    train = pickle.load(f)\n",
    "with open(testing_file, mode='rb') as f:\n",
    "    test = pickle.load(f)\n",
    "    \n",
    "X_train, y_train = train['features'], train['labels']\n",
    "X_test, y_test = test['features'], test['labels']\n",
    "\n",
    "# STOP: Do not change the tests below. Your implementation should pass these tests. \n",
    "assert(X_train.shape[0] == y_train.shape[0]), \"The number of images is not equal to the number of labels.\"\n",
    "assert(X_train.shape[1:] == (32,32,3)), \"The dimensions of the images are not 32 x 32 x 3.\""
   ]
  },
  {
   "cell_type": "markdown",
   "metadata": {},
   "source": [
    "## Normalize the data\n",
    "\n",
    "Now that you've loaded the training data, normalize the input so that it has a mean of 0 and a range between -0.5 and 0.5."
   ]
  },
  {
   "cell_type": "code",
   "execution_count": 50,
   "metadata": {
    "collapsed": true
   },
   "outputs": [],
   "source": [
    "import numpy as np"
   ]
  },
  {
   "cell_type": "code",
   "execution_count": 51,
   "metadata": {
    "collapsed": true
   },
   "outputs": [],
   "source": [
    "from sklearn.utils import shuffle\n",
    "X_train, y_train = shuffle(X_train, y_train, random_state=42)\n",
    "X_test, y_test = shuffle(X_test, y_test, random_state=42)"
   ]
  },
  {
   "cell_type": "code",
   "execution_count": 52,
   "metadata": {
    "collapsed": true
   },
   "outputs": [],
   "source": [
    "X_train_original = X_train\n",
    "X_test_original = X_test"
   ]
  },
  {
   "cell_type": "code",
   "execution_count": 53,
   "metadata": {
    "collapsed": false
   },
   "outputs": [],
   "source": [
    "# TODO: Implement data normalization here.\n",
    "\n",
    "X_train_standardised = (X_train - X_train.mean()) / np.std(X_train)\n",
    "X_test_standardised = (X_test - X_test.mean()) / np.std(X_test)\n",
    "X_train_normalised = (X_train - X_train.mean()) / (np.max(X_train) - np.min(X_train))\n",
    "X_test_normalised = (X_test - X_test.mean()) / (np.max(X_test) - np.min(X_test))"
   ]
  },
  {
   "cell_type": "code",
   "execution_count": 54,
   "metadata": {
    "collapsed": false
   },
   "outputs": [
    {
     "name": "stdout",
     "output_type": "stream",
     "text": [
      "Min: 0\n",
      "Max: 0\n",
      "Mean: 0\n"
     ]
    }
   ],
   "source": [
    "print(\"Min: %d\" % np.min(X_train_normalised))\n",
    "print(\"Max: %d\" % np.max(X_train_normalised))\n",
    "print(\"Mean: %d\" % np.mean(X_train_normalised))"
   ]
  },
  {
   "cell_type": "raw",
   "metadata": {
    "collapsed": false
   },
   "source": [
    "# STOP: Do not change the tests below. Your implementation should pass these tests. \n",
    "assert(round(np.mean(X_train)) == 0), \"The mean of the input data is: %f\" % np.mean(X_train)\n",
    "assert(np.min(X_train) == -0.5 and np.max(X_train) == 0.5), \"The range of the input data is: %.1f to %.1f\" % (np.min(X_train), np.max(X_train))"
   ]
  },
  {
   "cell_type": "markdown",
   "metadata": {},
   "source": [
    "## Build a Two-Layer Feedfoward Network\n",
    "\n",
    "The code you've written so far is for data processing, not specific to Keras. Here you're going to build Keras-specific code.\n",
    "\n",
    "Build a two-layer feedforward neural network, with 128 neurons in the fully-connected hidden layer. \n",
    "\n",
    "To get started, review the Keras documentation about [models](https://keras.io/models/sequential/) and [layers](https://keras.io/layers/core/).\n",
    "\n",
    "The Keras example of a [Multi-Layer Perceptron](https://github.com/fchollet/keras/blob/master/examples/mnist_mlp.py) network is similar to what you need to do here. Use that as a guide, but keep in mind that there are a number of differences."
   ]
  },
  {
   "cell_type": "code",
   "execution_count": 55,
   "metadata": {
    "collapsed": false
   },
   "outputs": [],
   "source": [
    "import keras"
   ]
  },
  {
   "cell_type": "code",
   "execution_count": 56,
   "metadata": {
    "collapsed": true
   },
   "outputs": [],
   "source": [
    "from keras.models import Sequential\n",
    "from keras.layers.core import Dense, Dropout, Activation\n",
    "from keras.optimizers import SGD, Adam, RMSprop\n",
    "from keras.utils import np_utils"
   ]
  },
  {
   "cell_type": "code",
   "execution_count": 57,
   "metadata": {
    "collapsed": false
   },
   "outputs": [
    {
     "name": "stdout",
     "output_type": "stream",
     "text": [
      "____________________________________________________________________________________________________\n",
      "Layer (type)                     Output Shape          Param #     Connected to                     \n",
      "====================================================================================================\n",
      "dense_7 (Dense)                  (None, 512)           1573376     dense_input_3[0][0]              \n",
      "____________________________________________________________________________________________________\n",
      "activation_7 (Activation)        (None, 512)           0           dense_7[0][0]                    \n",
      "____________________________________________________________________________________________________\n",
      "dropout_5 (Dropout)              (None, 512)           0           activation_7[0][0]               \n",
      "____________________________________________________________________________________________________\n",
      "dense_8 (Dense)                  (None, 128)           65664       dropout_5[0][0]                  \n",
      "____________________________________________________________________________________________________\n",
      "activation_8 (Activation)        (None, 128)           0           dense_8[0][0]                    \n",
      "____________________________________________________________________________________________________\n",
      "dropout_6 (Dropout)              (None, 128)           0           activation_8[0][0]               \n",
      "____________________________________________________________________________________________________\n",
      "dense_9 (Dense)                  (None, 43)            5547        dropout_6[0][0]                  \n",
      "____________________________________________________________________________________________________\n",
      "activation_9 (Activation)        (None, 43)            0           dense_9[0][0]                    \n",
      "====================================================================================================\n",
      "Total params: 1644587\n",
      "____________________________________________________________________________________________________\n"
     ]
    }
   ],
   "source": [
    "# TODO: Build a two-layer feedforward neural network with Keras here.\n",
    "# Sequential model is a linear stack of layers.\n",
    "model = Sequential()\n",
    "# Dense is a fully connnected layer\n",
    "# Fully connected layer\n",
    "# -> allows for non-linear combination of features \n",
    "# discovered in the previous layer\n",
    "model.add(Dense(512, input_shape=(32*32*3,)))\n",
    "model.add(Activation('relu'))\n",
    "model.add(Dropout(0.2))\n",
    "# Layer 2\n",
    "hidden1 = model.add(Dense(128))\n",
    "model.add(Activation('relu'))\n",
    "model.add(Dropout(0.2))\n",
    "# Convert to 43 labels since 43 outputs\n",
    "model.add(Dense(43))\n",
    "# Softmax to compute probabilities\n",
    "output = model.add(Activation('softmax'))\n",
    "\n",
    "model.summary()"
   ]
  },
  {
   "cell_type": "raw",
   "metadata": {},
   "source": [
    "# STOP: Do not change the tests below. Your implementation should pass these tests.\n",
    "assert(model.get_layer(name=\"hidden1\").input_shape == (None, 32*32*3)), \"The input shape is: %s\" % model.get_layer(name=\"hidden1\").input_shape\n",
    "assert(model.get_layer(name=\"output\").output_shape == (None, 43)), \"The output shape is: %s\" % model.get_layer(name=\"output\").output_shape "
   ]
  },
  {
   "cell_type": "markdown",
   "metadata": {},
   "source": [
    "## Train the Network\n",
    "Compile and train the network for 2 epochs. [Use the `adam` optimizer, with `categorical_crossentropy` loss.](https://keras.io/models/sequential/)\n",
    "\n",
    "Hint 1: In order to use categorical cross entropy, you will need to [one-hot encode the labels](https://github.com/fchollet/keras/blob/master/keras/utils/np_utils.py).\n",
    "\n",
    "Hint 2: In order to pass the input images to the fully-connected hidden layer, you will need to [reshape the input](https://github.com/fchollet/keras/blob/master/examples/mnist_mlp.py).\n",
    "\n",
    "Hint 3: Keras's `.fit()` method returns a `History.history` object, which the tests below use. Save that to a variable named `history`."
   ]
  },
  {
   "cell_type": "code",
   "execution_count": 58,
   "metadata": {
    "collapsed": true
   },
   "outputs": [],
   "source": [
    "# One-hot encode labels\n",
    "y_train = np_utils.to_categorical(y_train,nb_classes=43)\n",
    "y_test = np_utils.to_categorical(y_test, nb_classes=43)"
   ]
  },
  {
   "cell_type": "raw",
   "metadata": {},
   "source": [
    "# Normalised input\n",
    "X_train = X_train_normalised\n",
    "X_test = X_test_normalised"
   ]
  },
  {
   "cell_type": "raw",
   "metadata": {},
   "source": [
    "# Standardised input\n",
    "X_train = X_train_standardised\n",
    "X_test = X_test_standardised"
   ]
  },
  {
   "cell_type": "code",
   "execution_count": 66,
   "metadata": {
    "collapsed": true
   },
   "outputs": [],
   "source": [
    "# Original input\n",
    "X_train = X_train_original\n",
    "X_test = X_test_original"
   ]
  },
  {
   "cell_type": "code",
   "execution_count": 67,
   "metadata": {
    "collapsed": true
   },
   "outputs": [],
   "source": [
    "# Reshape input\n",
    "X_train = X_train.reshape(len(X_train), 32*32*3)\n",
    "X_test = X_test.reshape(len(X_test), 32*32*3)"
   ]
  },
  {
   "cell_type": "code",
   "execution_count": 61,
   "metadata": {
    "collapsed": true
   },
   "outputs": [],
   "source": [
    "batch_size = 100\n",
    "nb_epoch = 100"
   ]
  },
  {
   "cell_type": "code",
   "execution_count": 68,
   "metadata": {
    "collapsed": false
   },
   "outputs": [
    {
     "name": "stdout",
     "output_type": "stream",
     "text": [
      "Train on 39209 samples, validate on 12630 samples\n",
      "Epoch 1/100\n",
      "39209/39209 [==============================] - 3s - loss: 6.8938 - acc: 0.5722 - val_loss: 9.8868 - val_acc: 0.3864\n",
      "Epoch 2/100\n",
      "39209/39209 [==============================] - 3s - loss: 11.4942 - acc: 0.2868 - val_loss: 12.1638 - val_acc: 0.2453\n",
      "Epoch 3/100\n",
      "39209/39209 [==============================] - 3s - loss: 12.1893 - acc: 0.2437 - val_loss: 13.8275 - val_acc: 0.1420\n",
      "Epoch 4/100\n",
      "39209/39209 [==============================] - 3s - loss: 13.7725 - acc: 0.1455 - val_loss: 13.8044 - val_acc: 0.1435\n",
      "Epoch 5/100\n",
      "39209/39209 [==============================] - 3s - loss: 13.4138 - acc: 0.1677 - val_loss: 14.5663 - val_acc: 0.0963\n",
      "Epoch 6/100\n",
      "39209/39209 [==============================] - 3s - loss: 14.4927 - acc: 0.1008 - val_loss: 14.3544 - val_acc: 0.1094\n",
      "Epoch 7/100\n",
      "39209/39209 [==============================] - 3s - loss: 14.4208 - acc: 0.1053 - val_loss: 14.7245 - val_acc: 0.0865\n",
      "Epoch 8/100\n",
      "39209/39209 [==============================] - 3s - loss: 13.7007 - acc: 0.1499 - val_loss: 12.7541 - val_acc: 0.2087\n",
      "Epoch 9/100\n",
      "39209/39209 [==============================] - 3s - loss: 14.1851 - acc: 0.1199 - val_loss: 14.2562 - val_acc: 0.1155\n",
      "Epoch 10/100\n",
      "39209/39209 [==============================] - 3s - loss: 14.1615 - acc: 0.1214 - val_loss: 13.8296 - val_acc: 0.1420\n",
      "Epoch 11/100\n",
      "39209/39209 [==============================] - 3s - loss: 14.8654 - acc: 0.0777 - val_loss: 15.4392 - val_acc: 0.0421\n",
      "Epoch 12/100\n",
      "39209/39209 [==============================] - 3s - loss: 15.2311 - acc: 0.0550 - val_loss: 15.3447 - val_acc: 0.0480\n",
      "Epoch 13/100\n",
      "39209/39209 [==============================] - 3s - loss: 15.1997 - acc: 0.0570 - val_loss: 15.3447 - val_acc: 0.0480\n",
      "Epoch 14/100\n",
      "39209/39209 [==============================] - 3s - loss: 14.9895 - acc: 0.0700 - val_loss: 15.0499 - val_acc: 0.0663\n",
      "Epoch 15/100\n",
      "39209/39209 [==============================] - 3s - loss: 14.8972 - acc: 0.0757 - val_loss: 15.0499 - val_acc: 0.0663\n",
      "Epoch 16/100\n",
      "39209/39209 [==============================] - 3s - loss: 14.9042 - acc: 0.0753 - val_loss: 15.0499 - val_acc: 0.0663\n",
      "Epoch 17/100\n",
      "39209/39209 [==============================] - 3s - loss: 14.8881 - acc: 0.0763 - val_loss: 15.0499 - val_acc: 0.0663\n",
      "Epoch 18/100\n",
      "39209/39209 [==============================] - 3s - loss: 14.9116 - acc: 0.0749 - val_loss: 15.0499 - val_acc: 0.0663\n",
      "Epoch 19/100\n",
      "39209/39209 [==============================] - 3s - loss: 14.8984 - acc: 0.0757 - val_loss: 15.0499 - val_acc: 0.0663\n",
      "Epoch 20/100\n",
      "39209/39209 [==============================] - 3s - loss: 14.8927 - acc: 0.0760 - val_loss: 15.0499 - val_acc: 0.0663\n",
      "Epoch 21/100\n",
      "39209/39209 [==============================] - 3s - loss: 14.8955 - acc: 0.0758 - val_loss: 15.0461 - val_acc: 0.0665\n",
      "Epoch 22/100\n",
      "39209/39209 [==============================] - 3s - loss: 14.8779 - acc: 0.0769 - val_loss: 15.0461 - val_acc: 0.0665\n",
      "Epoch 23/100\n",
      "39209/39209 [==============================] - 3s - loss: 14.8594 - acc: 0.0781 - val_loss: 15.0436 - val_acc: 0.0667\n",
      "Epoch 24/100\n",
      "39209/39209 [==============================] - 3s - loss: 14.8713 - acc: 0.0774 - val_loss: 15.0436 - val_acc: 0.0667\n",
      "Epoch 25/100\n",
      "39209/39209 [==============================] - 3s - loss: 15.4110 - acc: 0.0439 - val_loss: 15.5349 - val_acc: 0.0362\n",
      "Epoch 26/100\n",
      "39209/39209 [==============================] - 3s - loss: 15.3508 - acc: 0.0476 - val_loss: 15.3013 - val_acc: 0.0507\n",
      "Epoch 27/100\n",
      "39209/39209 [==============================] - 3s - loss: 15.2144 - acc: 0.0561 - val_loss: 15.5719 - val_acc: 0.0339\n",
      "Epoch 28/100\n",
      "39209/39209 [==============================] - 3s - loss: 15.4970 - acc: 0.0385 - val_loss: 15.6383 - val_acc: 0.0298\n",
      "Epoch 29/100\n",
      "39209/39209 [==============================] - 3s - loss: 15.4607 - acc: 0.0408 - val_loss: 15.5579 - val_acc: 0.0348\n",
      "Epoch 30/100\n",
      "39209/39209 [==============================] - 3s - loss: 15.5240 - acc: 0.0369 - val_loss: 15.5744 - val_acc: 0.0337\n",
      "Epoch 31/100\n",
      "39209/39209 [==============================] - 3s - loss: 15.5677 - acc: 0.0342 - val_loss: 15.5744 - val_acc: 0.0337\n",
      "Epoch 32/100\n",
      "39209/39209 [==============================] - 3s - loss: 15.5681 - acc: 0.0341 - val_loss: 15.5744 - val_acc: 0.0337\n",
      "Epoch 33/100\n",
      "39209/39209 [==============================] - 3s - loss: 15.5660 - acc: 0.0343 - val_loss: 15.5744 - val_acc: 0.0337\n",
      "Epoch 34/100\n",
      "39209/39209 [==============================] - 3s - loss: 15.5656 - acc: 0.0343 - val_loss: 15.5744 - val_acc: 0.0337\n",
      "Epoch 35/100\n",
      "39209/39209 [==============================] - 3s - loss: 15.5693 - acc: 0.0340 - val_loss: 15.5744 - val_acc: 0.0337\n",
      "Epoch 36/100\n",
      "39209/39209 [==============================] - 3s - loss: 15.5672 - acc: 0.0342 - val_loss: 15.5744 - val_acc: 0.0337\n",
      "Epoch 37/100\n",
      "39209/39209 [==============================] - 3s - loss: 15.5685 - acc: 0.0341 - val_loss: 15.5744 - val_acc: 0.0337\n",
      "Epoch 38/100\n",
      "39209/39209 [==============================] - 3s - loss: 15.5672 - acc: 0.0342 - val_loss: 15.5744 - val_acc: 0.0337\n",
      "Epoch 39/100\n",
      "39209/39209 [==============================] - 3s - loss: 15.5705 - acc: 0.0340 - val_loss: 15.5744 - val_acc: 0.0337\n",
      "Epoch 40/100\n",
      "39209/39209 [==============================] - 3s - loss: 15.5664 - acc: 0.0342 - val_loss: 15.5744 - val_acc: 0.0337\n",
      "Epoch 41/100\n",
      "39209/39209 [==============================] - 3s - loss: 15.5677 - acc: 0.0342 - val_loss: 15.5744 - val_acc: 0.0337\n",
      "Epoch 42/100\n",
      "39209/39209 [==============================] - 3s - loss: 15.5640 - acc: 0.0344 - val_loss: 15.5744 - val_acc: 0.0337\n",
      "Epoch 43/100\n",
      "39209/39209 [==============================] - 3s - loss: 15.5689 - acc: 0.0341 - val_loss: 15.5744 - val_acc: 0.0337\n",
      "Epoch 44/100\n",
      "39209/39209 [==============================] - 3s - loss: 15.5681 - acc: 0.0341 - val_loss: 15.5744 - val_acc: 0.0337\n",
      "Epoch 45/100\n",
      "39209/39209 [==============================] - 3s - loss: 15.5677 - acc: 0.0342 - val_loss: 15.5744 - val_acc: 0.0337\n",
      "Epoch 46/100\n",
      "39209/39209 [==============================] - 3s - loss: 15.5648 - acc: 0.0343 - val_loss: 15.5744 - val_acc: 0.0337\n",
      "Epoch 47/100\n",
      "39209/39209 [==============================] - 3s - loss: 15.5660 - acc: 0.0343 - val_loss: 15.5744 - val_acc: 0.0337\n",
      "Epoch 48/100\n",
      "39209/39209 [==============================] - 3s - loss: 15.5664 - acc: 0.0342 - val_loss: 15.5744 - val_acc: 0.0337\n",
      "Epoch 49/100\n",
      "39209/39209 [==============================] - 3s - loss: 15.5689 - acc: 0.0341 - val_loss: 15.5744 - val_acc: 0.0337\n",
      "Epoch 50/100\n",
      "39209/39209 [==============================] - 3s - loss: 15.5689 - acc: 0.0341 - val_loss: 15.5744 - val_acc: 0.0337\n",
      "Epoch 51/100\n",
      "39209/39209 [==============================] - 3s - loss: 15.5668 - acc: 0.0342 - val_loss: 15.5744 - val_acc: 0.0337\n",
      "Epoch 52/100\n",
      "39209/39209 [==============================] - 3s - loss: 15.5705 - acc: 0.0340 - val_loss: 15.5744 - val_acc: 0.0337\n",
      "Epoch 53/100\n",
      "39209/39209 [==============================] - 3s - loss: 15.5685 - acc: 0.0341 - val_loss: 15.5744 - val_acc: 0.0337\n",
      "Epoch 54/100\n",
      "39209/39209 [==============================] - 3s - loss: 15.5660 - acc: 0.0343 - val_loss: 15.5744 - val_acc: 0.0337\n",
      "Epoch 55/100\n",
      "39209/39209 [==============================] - 3s - loss: 15.5644 - acc: 0.0344 - val_loss: 15.5744 - val_acc: 0.0337\n",
      "Epoch 56/100\n",
      "39209/39209 [==============================] - 3s - loss: 15.5660 - acc: 0.0343 - val_loss: 15.5744 - val_acc: 0.0337\n",
      "Epoch 57/100\n",
      "39209/39209 [==============================] - 3s - loss: 15.5656 - acc: 0.0343 - val_loss: 15.5744 - val_acc: 0.0337\n",
      "Epoch 58/100\n",
      "39209/39209 [==============================] - 3s - loss: 15.5623 - acc: 0.0345 - val_loss: 15.5744 - val_acc: 0.0337\n",
      "Epoch 59/100\n",
      "39209/39209 [==============================] - 3s - loss: 15.5660 - acc: 0.0343 - val_loss: 15.5744 - val_acc: 0.0337\n",
      "Epoch 60/100\n",
      "39209/39209 [==============================] - 3s - loss: 15.5640 - acc: 0.0344 - val_loss: 15.5744 - val_acc: 0.0337\n",
      "Epoch 61/100\n",
      "39209/39209 [==============================] - 3s - loss: 15.5681 - acc: 0.0341 - val_loss: 15.5744 - val_acc: 0.0337\n",
      "Epoch 62/100\n",
      "39209/39209 [==============================] - 3s - loss: 15.5689 - acc: 0.0341 - val_loss: 15.5744 - val_acc: 0.0337\n",
      "Epoch 63/100\n",
      "39209/39209 [==============================] - 3s - loss: 15.5668 - acc: 0.0342 - val_loss: 15.5744 - val_acc: 0.0337\n",
      "Epoch 64/100\n",
      "39209/39209 [==============================] - 3s - loss: 15.5656 - acc: 0.0343 - val_loss: 15.5744 - val_acc: 0.0337\n",
      "Epoch 65/100\n",
      "39209/39209 [==============================] - 3s - loss: 15.5668 - acc: 0.0342 - val_loss: 15.5744 - val_acc: 0.0337\n",
      "Epoch 66/100\n",
      "39209/39209 [==============================] - 3s - loss: 15.5627 - acc: 0.0345 - val_loss: 15.5744 - val_acc: 0.0337\n",
      "Epoch 67/100\n",
      "39209/39209 [==============================] - 3s - loss: 15.5697 - acc: 0.0340 - val_loss: 15.5744 - val_acc: 0.0337\n",
      "Epoch 68/100\n",
      "39209/39209 [==============================] - 3s - loss: 15.5652 - acc: 0.0343 - val_loss: 15.5744 - val_acc: 0.0337\n",
      "Epoch 69/100\n",
      "39209/39209 [==============================] - 3s - loss: 15.5644 - acc: 0.0344 - val_loss: 15.5744 - val_acc: 0.0337\n",
      "Epoch 70/100\n",
      "39209/39209 [==============================] - 3s - loss: 15.5627 - acc: 0.0345 - val_loss: 15.5744 - val_acc: 0.0337\n",
      "Epoch 71/100\n",
      "39209/39209 [==============================] - 3s - loss: 15.5640 - acc: 0.0344 - val_loss: 15.5744 - val_acc: 0.0337\n",
      "Epoch 72/100\n",
      "39209/39209 [==============================] - 3s - loss: 15.5689 - acc: 0.0341 - val_loss: 15.5744 - val_acc: 0.0337\n",
      "Epoch 73/100\n",
      "39209/39209 [==============================] - 3s - loss: 15.5668 - acc: 0.0342 - val_loss: 15.5744 - val_acc: 0.0337\n",
      "Epoch 74/100\n",
      "39209/39209 [==============================] - 3s - loss: 15.5672 - acc: 0.0342 - val_loss: 15.5744 - val_acc: 0.0337\n",
      "Epoch 75/100\n",
      "39209/39209 [==============================] - 3s - loss: 15.5664 - acc: 0.0342 - val_loss: 15.5744 - val_acc: 0.0337\n",
      "Epoch 76/100\n",
      "39209/39209 [==============================] - 3s - loss: 15.5640 - acc: 0.0344 - val_loss: 15.5744 - val_acc: 0.0337\n",
      "Epoch 77/100\n",
      "39209/39209 [==============================] - 3s - loss: 15.5685 - acc: 0.0341 - val_loss: 15.5744 - val_acc: 0.0337\n",
      "Epoch 78/100\n",
      "39209/39209 [==============================] - 3s - loss: 15.5664 - acc: 0.0342 - val_loss: 15.5744 - val_acc: 0.0337\n",
      "Epoch 79/100\n",
      "39209/39209 [==============================] - 3s - loss: 15.1163 - acc: 0.0622 - val_loss: 14.9912 - val_acc: 0.0699\n",
      "Epoch 80/100\n",
      "39209/39209 [==============================] - 3s - loss: 15.0826 - acc: 0.0642 - val_loss: 14.9912 - val_acc: 0.0699\n",
      "Epoch 81/100\n",
      "39209/39209 [==============================] - 3s - loss: 15.0924 - acc: 0.0636 - val_loss: 14.9912 - val_acc: 0.0699\n",
      "Epoch 82/100\n",
      "39209/39209 [==============================] - 3s - loss: 15.1060 - acc: 0.0628 - val_loss: 14.9912 - val_acc: 0.0699\n",
      "Epoch 83/100\n",
      "39209/39209 [==============================] - 3s - loss: 15.4647 - acc: 0.0405 - val_loss: 15.5604 - val_acc: 0.0346\n",
      "Epoch 84/100\n",
      "39209/39209 [==============================] - 3s - loss: 15.5368 - acc: 0.0361 - val_loss: 15.5604 - val_acc: 0.0346\n",
      "Epoch 85/100\n",
      "39209/39209 [==============================] - 3s - loss: 15.5339 - acc: 0.0362 - val_loss: 15.5604 - val_acc: 0.0346\n",
      "Epoch 86/100\n",
      "39209/39209 [==============================] - 3s - loss: 15.5360 - acc: 0.0361 - val_loss: 15.5604 - val_acc: 0.0346\n",
      "Epoch 87/100\n",
      "39209/39209 [==============================] - 3s - loss: 15.5245 - acc: 0.0368 - val_loss: 15.5604 - val_acc: 0.0346\n",
      "Epoch 88/100\n",
      "39209/39209 [==============================] - 3s - loss: 15.5286 - acc: 0.0366 - val_loss: 15.5604 - val_acc: 0.0346\n",
      "Epoch 89/100\n",
      "39209/39209 [==============================] - 3s - loss: 15.5352 - acc: 0.0362 - val_loss: 15.5604 - val_acc: 0.0346\n",
      "Epoch 90/100\n",
      "39209/39209 [==============================] - 3s - loss: 15.5223 - acc: 0.0370 - val_loss: 15.5617 - val_acc: 0.0345\n",
      "Epoch 91/100\n",
      "39209/39209 [==============================] - 3s - loss: 15.4501 - acc: 0.0414 - val_loss: 15.5617 - val_acc: 0.0345\n",
      "Epoch 92/100\n",
      "39209/39209 [==============================] - 3s - loss: 15.4389 - acc: 0.0421 - val_loss: 15.4401 - val_acc: 0.0420\n",
      "Epoch 93/100\n",
      "39209/39209 [==============================] - 3s - loss: 15.4336 - acc: 0.0425 - val_loss: 15.4401 - val_acc: 0.0420\n",
      "Epoch 94/100\n",
      "39209/39209 [==============================] - 3s - loss: 15.4291 - acc: 0.0427 - val_loss: 15.4401 - val_acc: 0.0420\n",
      "Epoch 95/100\n",
      "39209/39209 [==============================] - 3s - loss: 15.4205 - acc: 0.0433 - val_loss: 15.4401 - val_acc: 0.0420\n",
      "Epoch 96/100\n",
      "39209/39209 [==============================] - 3s - loss: 15.4517 - acc: 0.0413 - val_loss: 15.4401 - val_acc: 0.0420\n",
      "Epoch 97/100\n",
      "39209/39209 [==============================] - 3s - loss: 15.4225 - acc: 0.0432 - val_loss: 15.4401 - val_acc: 0.0420\n",
      "Epoch 98/100\n",
      "39209/39209 [==============================] - 3s - loss: 15.4275 - acc: 0.0428 - val_loss: 15.4401 - val_acc: 0.0420\n",
      "Epoch 99/100\n",
      "39209/39209 [==============================] - 3s - loss: 15.4349 - acc: 0.0424 - val_loss: 15.4401 - val_acc: 0.0420\n",
      "Epoch 100/100\n",
      "39209/39209 [==============================] - 3s - loss: 15.4234 - acc: 0.0431 - val_loss: 15.4401 - val_acc: 0.0420\n"
     ]
    }
   ],
   "source": [
    "# TODO: Compile and train the model here.\n",
    "model.compile(loss='categorical_crossentropy',\n",
    "              optimizer=Adam(),\n",
    "              metrics=['accuracy'])\n",
    "\n",
    "history = model.fit(X_train, y_train,\n",
    "                    batch_size=batch_size, nb_epoch=nb_epoch,\n",
    "                    verbose=1, validation_data=(X_test, y_test))\n",
    "\n",
    "# STOP: Do not change the tests below. Your implementation should pass these tests.\n",
    "# assert(history.history['acc'][0] > 0.5), \"The training accuracy was: %.3f\" % history.history['acc']\n"
   ]
  },
  {
   "cell_type": "markdown",
   "metadata": {},
   "source": [
    "## Validate the Network\n",
    "Split the training data into a training and validation set.\n",
    "\n",
    "Measure the [validation accuracy](https://keras.io/models/sequential/) of the network after two training epochs.\n",
    "\n",
    "Hint: [Use the `train_test_split()` method](http://scikit-learn.org/stable/modules/generated/sklearn.model_selection.train_test_split.html) from scikit-learn."
   ]
  },
  {
   "cell_type": "code",
   "execution_count": null,
   "metadata": {
    "collapsed": false
   },
   "outputs": [],
   "source": [
    "# TODO: Split some of the training data into a validation dataset.\n",
    "\n",
    "# TODO: Compile and train the model to measure validation accuracy.\n",
    "\n",
    "\n",
    "# STOP: Do not change the tests below. Your implementation should pass these tests.\n",
    "assert(round(X_train.shape[0] / float(X_val.shape[0])) == 3), \"The training set is %.3f times larger than the validation set.\" % X_train.shape[0] / float(X_val.shape[0])\n",
    "assert(history.history['val_acc'][0] > 0.6), \"The validation accuracy is: %.3f\" % history.history['val_acc'][0]"
   ]
  },
  {
   "cell_type": "markdown",
   "metadata": {},
   "source": [
    "**Validation Accuracy**: (fill in here)"
   ]
  },
  {
   "cell_type": "markdown",
   "metadata": {},
   "source": [
    "## Congratulations\n",
    "You've built a feedforward neural network in Keras!\n",
    "\n",
    "Don't stop here! Next, you'll add a convolutional layer to drive.py."
   ]
  },
  {
   "cell_type": "markdown",
   "metadata": {},
   "source": [
    "## Convolutions\n",
    "Build a new network, similar to your existing network. Before the hidden layer, add a 3x3 [convolutional layer](https://keras.io/layers/convolutional/#convolution2d) with 32 filters and valid padding.\n",
    "\n",
    "Then compile and train the network.\n",
    "\n",
    "Hint 1: The Keras example of a [convolutional neural network](https://github.com/fchollet/keras/blob/master/examples/mnist_cnn.py) for MNIST would be a good example to review.\n",
    "\n",
    "Hint 2: Now that the first layer of the network is a convolutional layer, you no longer need to reshape the input images before passing them to the network. You might need to reload your training data to recover the original shape.\n",
    "\n",
    "Hint 3: Add a [`Flatten()` layer](https://keras.io/layers/core/#flatten) between the convolutional layer and the fully-connected hidden layer."
   ]
  },
  {
   "cell_type": "code",
   "execution_count": null,
   "metadata": {
    "collapsed": false
   },
   "outputs": [],
   "source": [
    "# TODO: Re-construct the network and add a convolutional layer before the first fully-connected layer.\n",
    "# TODO: Compile and train the model.\n",
    "\n",
    "\n",
    "# STOP: Do not change the tests below. Your implementation should pass these tests.\n",
    "assert(history.history['val_acc'][0] > 0.9), \"The validation accuracy is: %.3f\" % history.history['val_acc'][0]"
   ]
  },
  {
   "cell_type": "markdown",
   "metadata": {},
   "source": [
    "**Validation Accuracy**: (fill in here)"
   ]
  },
  {
   "cell_type": "markdown",
   "metadata": {},
   "source": [
    "## Pooling\n",
    "Re-construct your network and add a 2x2 [pooling layer](https://keras.io/layers/pooling/#maxpooling2d) immediately following your convolutional layer.\n",
    "\n",
    "Then compile and train the network."
   ]
  },
  {
   "cell_type": "code",
   "execution_count": null,
   "metadata": {
    "collapsed": false
   },
   "outputs": [],
   "source": [
    "# TODO: Re-construct the network and add a pooling layer after the convolutional layer.\n",
    "# TODO: Compile and train the model.\n",
    "\n",
    "# STOP: Do not change the tests below. Your implementation should pass these tests.\n",
    "assert(history.history['val_acc'][0] > 0.9), \"The validation accuracy is: %.3f\" % history.history['val_acc'][0]"
   ]
  },
  {
   "cell_type": "markdown",
   "metadata": {},
   "source": [
    "**Validation Accuracy**: (fill in here)"
   ]
  },
  {
   "cell_type": "markdown",
   "metadata": {},
   "source": [
    "## Dropout\n",
    "Re-construct your network and add [dropout](https://keras.io/layers/core/#dropout) after the pooling layer. Set the dropout rate to 50%."
   ]
  },
  {
   "cell_type": "code",
   "execution_count": null,
   "metadata": {
    "collapsed": false
   },
   "outputs": [],
   "source": [
    "# TODO: Re-construct the network and add dropout after the pooling layer.\n",
    "# TODO: Compile and train the model.\n",
    "\n",
    "# STOP: Do not change the tests below. Your implementation should pass these tests.\n",
    "assert(history.history['val_acc'][0] > 0.9), \"The validation accuracy is: %.3f\" % history.history['val_acc'][0]"
   ]
  },
  {
   "cell_type": "code",
   "execution_count": null,
   "metadata": {
    "collapsed": true
   },
   "outputs": [],
   "source": [
    "**Validation Accuracy**: (fill in here)"
   ]
  },
  {
   "cell_type": "markdown",
   "metadata": {},
   "source": [
    "## Optimization\n",
    "Congratulations! You've built a neural network with convolutions, pooling, dropout, and fully-connected layers, all in just a few lines of code.\n",
    "\n",
    "Have fun with the model and see how well you can do! Add more layers, or regularization, or different padding, or batches, or more training epochs.\n",
    "\n",
    "What is the best validation accuracy you can achieve?"
   ]
  },
  {
   "cell_type": "code",
   "execution_count": null,
   "metadata": {
    "collapsed": true
   },
   "outputs": [],
   "source": []
  },
  {
   "cell_type": "markdown",
   "metadata": {},
   "source": [
    "**Best Validation Accuracy:** (fill in here)"
   ]
  },
  {
   "cell_type": "markdown",
   "metadata": {},
   "source": [
    "## Testing\n",
    "Once you've picked out your best model, it's time to test it.\n",
    "\n",
    "Load up the test data and use the [`evaluate()` method](https://keras.io/models/model/#evaluate) to see how well it does.\n",
    "\n",
    "Hint 1: After you load your test data, don't forget to normalize the input and one-hot encode the output, so it matches the training data.\n",
    "\n",
    "Hint 2: The `evaluate()` method should return an array of numbers. Use the `metrics_names()` method to get the labels."
   ]
  },
  {
   "cell_type": "code",
   "execution_count": null,
   "metadata": {
    "collapsed": false
   },
   "outputs": [],
   "source": [
    "with open('./test.p', mode='rb') as f:\n",
    "    test = pickle.load(f)\n",
    "    \n",
    "X_test = test['features']\n",
    "y_test = test['labels']\n",
    "X_test = X_test.astype('float32')\n",
    "X_test /= 255\n",
    "X_test -= 0.5\n",
    "Y_test = np_utils.to_categorical(y_test, 43)\n",
    "\n",
    "model.evaluate(X_test, Y_test)"
   ]
  },
  {
   "cell_type": "markdown",
   "metadata": {},
   "source": [
    "**Test Accuracy:** (fill in here)"
   ]
  },
  {
   "cell_type": "markdown",
   "metadata": {},
   "source": [
    "## Summary\n",
    "Keras is a great tool to use if you want to quickly build a neural network and evaluate performance."
   ]
  }
 ],
 "metadata": {
  "anaconda-cloud": {},
  "hide_input": false,
  "kernelspec": {
   "display_name": "Python 3",
   "language": "python",
   "name": "python3"
  },
  "language_info": {
   "codemirror_mode": {
    "name": "ipython",
    "version": 3
   },
   "file_extension": ".py",
   "mimetype": "text/x-python",
   "name": "python",
   "nbconvert_exporter": "python",
   "pygments_lexer": "ipython3",
   "version": "3.5.1"
  }
 },
 "nbformat": 4,
 "nbformat_minor": 0
}
