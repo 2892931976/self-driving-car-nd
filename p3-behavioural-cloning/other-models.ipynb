{
 "cells": [
  {
   "cell_type": "markdown",
   "metadata": {},
   "source": [
    "### Models by other users posted on GitHub\n",
    "\n",
    "For reference"
   ]
  },
  {
   "cell_type": "code",
   "execution_count": null,
   "metadata": {
    "collapsed": true
   },
   "outputs": [],
   "source": [
    "# dyelax model\n",
    "model = Sequential([\n",
    "        Conv2D(32, 3, 3, input_shape=(32, 16, 1), border_mode='same', activation='relu'),\n",
    "        Conv2D(64, 3, 3, border_mode='same', activation='relu'),\n",
    "        Dropout(0.5),\n",
    "        Conv2D(128, 3, 3, border_mode='same', activation='relu'),\n",
    "        Conv2D(256, 3, 3, border_mode='same', activation='relu'),\n",
    "        Dropout(0.5),\n",
    "        Flatten(),\n",
    "        Dense(1024, activation='relu'),\n",
    "        Dense(512, activation='relu'),\n",
    "        Dense(128, activation='relu'),\n",
    "        Dense(1, name='output', activation='tanh'),\n",
    "    ])\n",
    "model.compile(optimizer=Adam(lr=FLAGS.lrate), loss='mse')"
   ]
  },
  {
   "cell_type": "code",
   "execution_count": null,
   "metadata": {
    "collapsed": true
   },
   "outputs": [],
   "source": [
    "# pkern model\n",
    "input_layer = Input(shape=get_cropped_shape((*IMG_SIZE, 3), CROPPING))\n",
    "base_model = VGG16(weights='imagenet', include_top=False, input_tensor=input_layer)\n",
    "\n",
    "# Remove the last block of the VGG16 net.\n",
    "[base_model.layers.pop() for _ in range(4)]\n",
    "base_model.outputs = [base_model.layers[-1].output]\n",
    "base_model.layers[-1].outbound_nodes = []\n",
    "\n",
    "# Make sure pre trained layers from the VGG net don't change while training.\n",
    "for layer in base_model.layers:\n",
    "    layer.trainable = False\n",
    "\n",
    "# Add last block to the VGG model with modified sub sampling.\n",
    "layer = base_model.outputs[0]\n",
    "layer = Convolution2D(512, 3, 3, subsample=(2, 2), activation='relu', border_mode='same', name='block5_conv1')(\n",
    "    layer)\n",
    "layer = Convolution2D(512, 3, 3, subsample=(1, 2), activation='relu', border_mode='same', name='block5_conv2')(\n",
    "    layer)\n",
    "layer = Convolution2D(512, 3, 3, subsample=(1, 2), activation='relu', border_mode='same', name='block5_conv3')(\n",
    "    layer)\n",
    "\n",
    "layer = Flatten()(layer)\n",
    "layer = Dropout(.2)(layer)\n",
    "layer = Dense(2048, activation='relu', name='fc1')(layer)\n",
    "layer = Dropout(.2)(layer)\n",
    "layer = Dense(1024, activation='relu', name='fc2')(layer)\n",
    "layer = Dropout(.5)(layer)\n",
    "layer = Dense(1, activation='linear', name='predictions')(layer)\n",
    "\n",
    "return Model(input=base_model.input, output=layer)"
   ]
  },
  {
   "cell_type": "code",
   "execution_count": null,
   "metadata": {
    "collapsed": true
   },
   "outputs": [],
   "source": [
    "# wonjunee model\n",
    "\n",
    "kernel_size = (3,3)\n",
    "\n",
    "# Initiating the model\n",
    "model = Sequential()\n",
    "\n",
    "# Crop 50 pixels from the top of the image and 20 from the bottom\n",
    "model.add(Cropping2D(cropping=((50, 20), (0, 0)),\n",
    "                     dim_ordering='tf', # default\n",
    "                     input_shape=(160, 320, 3)))\n",
    "\n",
    "# Resize the data\n",
    "model.add(Lambda(resize))\n",
    "\n",
    "model.add(Lambda(lambda x: x[:,:,:,0:1]))\n",
    "\n",
    "model.add(Lambda(lambda x: (x/127.5) - 1.))\n",
    "\n",
    "# Starting with the convolutional layer\n",
    "# The first layer will turn 1 channel into 16 channels\n",
    "model.add(Convolution2D(16, kernel_size[0], kernel_size[1],\n",
    "                        border_mode='valid'))\n",
    "model.add(Activation('relu'))\n",
    "\n",
    "model.add(Convolution2D(8, kernel_size[0], kernel_size[1]))\n",
    "model.add(Activation('relu'))\n",
    "\n",
    "model.add(Convolution2D(4, kernel_size[0], kernel_size[1]))\n",
    "model.add(Activation('relu'))\n",
    "\n",
    "model.add(Convolution2D(2, kernel_size[0], kernel_size[1]))\n",
    "model.add(Activation('relu'))\n",
    "\n",
    "model.add(MaxPooling2D(pool_size=(2,2)))\n",
    "model.add(Dropout(0.25))\n",
    "\n",
    "# Flatten the matrix. The input has size of 360\n",
    "model.add(Flatten())\n",
    "\n",
    "model.add(Dense(16))\n",
    "model.add(Activation('relu'))\n",
    "\n",
    "model.add(Dense(16))\n",
    "model.add(Activation('relu'))\n",
    "\n",
    "model.add(Dense(16))\n",
    "model.add(Activation('relu'))\n",
    "model.add(Dropout(0.5))\n",
    "\n",
    "model.add(Dense(1))\n",
    "\n",
    "adam = Adam(lr=0.0001)\n",
    "model.compile(optimizer=adam, loss=\"mse\", metrics=['accuracy'])\n",
    "\n",
    "model.summary()"
   ]
  }
 ],
 "metadata": {
  "kernelspec": {
   "display_name": "Python 3",
   "language": "python",
   "name": "python3"
  },
  "language_info": {
   "codemirror_mode": {
    "name": "ipython",
    "version": 3
   },
   "file_extension": ".py",
   "mimetype": "text/x-python",
   "name": "python",
   "nbconvert_exporter": "python",
   "pygments_lexer": "ipython3",
   "version": "3.5.1"
  }
 },
 "nbformat": 4,
 "nbformat_minor": 0
}
