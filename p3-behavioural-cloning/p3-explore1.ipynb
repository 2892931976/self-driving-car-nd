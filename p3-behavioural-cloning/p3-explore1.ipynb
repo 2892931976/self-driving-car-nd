{
 "cells": [
  {
   "cell_type": "code",
   "execution_count": 93,
   "metadata": {
    "collapsed": false
   },
   "outputs": [],
   "source": [
    "import pandas as pd\n",
    "import numpy as np\n",
    "import matplotlib.pyplot as plt\n",
    "import matplotlib.image as mpimg\n",
    "%matplotlib inline\n",
    "\n",
    "from keras.models import Sequential\n",
    "from keras.layers import Dense, Dropout, Activation, Flatten, SpatialDropout2D, ELU\n",
    "from keras.layers import Convolution2D, MaxPooling2D, Cropping2D\n",
    "from keras.layers.core import Lambda\n",
    "\n",
    "from keras.optimizers import SGD, Adam, RMSprop\n",
    "from keras.utils import np_utils\n",
    "\n",
    "from keras.callbacks import ModelCheckpoint\n",
    "\n",
    "from sklearn.model_selection import train_test_split\n",
    "from sklearn.utils import shuffle\n",
    "\n",
    "import cv2"
   ]
  },
  {
   "cell_type": "raw",
   "metadata": {},
   "source": [
    "# Create reduced dataset\n",
    "\n",
    "zero = driving_csv[driving_csv[\"steering\"] == 0]\n",
    "print(\"Samples taken out: \", len(zero) // 2)\n",
    "zeros_half = zero.sample(frac=0.5)\n",
    "nonzero = driving_csv[driving_csv[\"steering\"] != 0]\n",
    "reduced_dataset = pd.concat([zeros_half, nonzero])\n",
    "reduced_dataset.to_csv(\"data-udacity/driving_log_reduced.csv\")"
   ]
  },
  {
   "cell_type": "raw",
   "metadata": {
    "collapsed": false
   },
   "source": [
    "# Option C: Three images\n",
    "\n",
    "## Import data\n",
    "# Added header row manually to CSV.\n",
    "driving_csv = pd.read_csv(\"data-udacity/driving_log.csv\")\n",
    "\n",
    "# Examine data\n",
    "print(\"Number of datapoints: %d\" % len(driving_csv))\n",
    "driving_csv.head()\n",
    "\n",
    "driving_csv_up_to_3600 = driving_csv[:3600]\n",
    "driving_csv_up_to_10 = driving_csv[:10]\n",
    "driving_csv_from_3700 = driving_csv[3700:]\n",
    "\n",
    "steer_left = driving_csv_up_to_3600[driving_csv_up_to_3600[\"steering\"] < -0.9]\n",
    "steer_right = driving_csv_from_3700[driving_csv_from_3700[\"steering\"] > 0.7]\n",
    "steer_zero = driving_csv_up_to_10[driving_csv_up_to_10[\"speed\"] > 22]\n",
    "\n",
    "three_images = pd.concat([steer_right, \n",
    "                          steer_left, \n",
    "                          steer_zero])\n",
    "\n",
    "# Extract centre image and steering angle from table\n",
    "# Format: X_path: centre image name, y: steeringa angle\n",
    "X_path = [three_images.iloc[i][\"center\"] \\\n",
    "              for i in range(len(three_images))]\n",
    "y = [three_images.iloc[i][\"steering\"] \\\n",
    "              for i in range(len(three_images))]\n",
    "\n",
    "# Import images\n",
    "X_images = [mpimg.imread(\"data-udacity/\" + image_path) for image_path in X_path]\n",
    "\n",
    "# View image\n",
    "print(\"Images: %d\" % len(X_images))\n",
    "print(\"Sample image\")\n",
    "plt.imshow(X_images[0])\n",
    "# X_images[0]\n",
    "\n",
    "imshape = X_images[0].shape\n",
    "print(\"Image shape: \", imshape)\n",
    "\n",
    "X_train = np.array(X_images)\n",
    "y_train = np.array(y)\n",
    "\n",
    "X_val = np.array(X_images)\n",
    "y_val = np.array(y)"
   ]
  },
  {
   "cell_type": "raw",
   "metadata": {
    "collapsed": true
   },
   "source": [
    "# Flip all of Udacity's data\n",
    "X_path = [driving_csv.iloc[i][\"center\"] \\\n",
    "              for i in range(len(driving_csv))]\n",
    "for filepath in X_path:\n",
    "    cv2.imread('data-udacity/' + filepath)\n",
    "    flipped_image = cv2.flip(input_image,1)\n",
    "    cv2.imwrite('data-udacity-flipped/' + filepath, flipped_image)"
   ]
  },
  {
   "cell_type": "raw",
   "metadata": {
    "collapsed": false
   },
   "source": [
    "# Option D: reduced Udacity's dataset\n",
    "\n",
    "## Import data\n",
    "# Added header row manually to CSV.\n",
    "driving_csv = pd.read_csv(\"data-udacity/driving_log.csv\")\n",
    "\n",
    "# Examine data\n",
    "print(\"Number of datapoints: %d\" % len(driving_csv))\n",
    "driving_csv.head()\n",
    "\n",
    "greater_half = driving_csv[driving_csv[\"steering\"] > 0.5]\n",
    "greater_half_neg = driving_csv[driving_csv[\"steering\"] < -0.5]\n",
    "\n",
    "smaller_dataset = pd.concat([greater_half, greater_half_neg])\n",
    "\n",
    "i = -0.5\n",
    "while i < 0.5:\n",
    "    smaller_dataset = pd.concat([smaller_dataset, \n",
    "              driving_csv[driving_csv[\"steering\"] > i].sort_values(by=\"steering\").iloc[0:3]])\n",
    "    i += 0.05\n",
    "print(len(smaller_dataset))\n",
    "\n",
    "# Extract centre image and steering angle from table\n",
    "# Format: X_path: centre image name, y: steeringa angle\n",
    "X_path = [smaller_dataset.iloc[i][\"center\"] \\\n",
    "              for i in range(len(smaller_dataset))]\n",
    "y = [smaller_dataset.iloc[i][\"steering\"] \\\n",
    "              for i in range(len(smaller_dataset))]\n",
    "\n",
    "# Import images\n",
    "X_images = [mpimg.imread(\"data-udacity/\" + image_path) for image_path in X_path]\n",
    "\n",
    "# View image\n",
    "print(\"Images: %d\" % len(X_images))\n",
    "print(\"Sample image\")\n",
    "plt.imshow(X_images[0])\n",
    "# X_images[0]\n",
    "\n",
    "imshape = X_images[0].shape\n",
    "print(\"Image shape: \", imshape)"
   ]
  },
  {
   "cell_type": "raw",
   "metadata": {
    "collapsed": false
   },
   "source": [
    "# Train-test split\n",
    "X_train, X_test, y_train, y_test = train_test_split(X_images, y, test_size=0.1, random_state=42)\n",
    "\n",
    "X_train = np.array(X_train)\n",
    "X_test = np.array(X_test)\n",
    "y_train = np.array(y_train)\n",
    "y_test = np.array(y_test)"
   ]
  },
  {
   "cell_type": "markdown",
   "metadata": {},
   "source": [
    "### Generator"
   ]
  },
  {
   "cell_type": "code",
   "execution_count": 110,
   "metadata": {
    "collapsed": false
   },
   "outputs": [],
   "source": [
    "import os\n",
    "import csv\n",
    "\n",
    "reduced = True\n",
    "\n",
    "if reduced == True:\n",
    "    csv_filepath = 'data-udacity/driving_log_reduced.csv'\n",
    "else:\n",
    "    csv_filepath = 'data-udacity/driving_log.csv'\n",
    "samples = []\n",
    "with open(csv_filepath) as csvfile:\n",
    "    reader = csv.reader(csvfile)\n",
    "    for line in reader:\n",
    "        samples.append(line)\n",
    "\n",
    "samples = samples[1:]\n",
    "        \n",
    "from sklearn.model_selection import train_test_split\n",
    "train_samples, validation_samples = train_test_split(samples, test_size=0.2)"
   ]
  },
  {
   "cell_type": "code",
   "execution_count": 198,
   "metadata": {
    "collapsed": true
   },
   "outputs": [],
   "source": [
    "def generator(samples, batch_size=32):\n",
    "    num_samples = len(samples)\n",
    "    while 1: # Loop forever so the generator never terminates\n",
    "        shuffle(samples)\n",
    "        for offset in range(0, num_samples, batch_size):\n",
    "            batch_samples = samples[offset:offset+batch_size]\n",
    "\n",
    "            images = []\n",
    "            angles = []\n",
    "            for batch_sample in batch_samples:\n",
    "                name = './data-udacity-flipped/IMG/'+batch_sample[0].split('/')[-1]\n",
    "                center_image = cv2.imread(name)\n",
    "                center_angle = float(batch_sample[3])\n",
    "                images.append(center_image)\n",
    "                angles.append(center_angle)\n",
    "\n",
    "            X_train = np.array(images)\n",
    "            y_train = np.array(angles)\n",
    "            \n",
    "            # print(\"X_train: \", X_train)\n",
    "            # print(\"y_train: \", y_train)\n",
    "            yield shuffle(X_train, y_train)\n",
    "\n",
    "# compile and train the model using the generator function\n",
    "train_generator = generator(train_samples, batch_size=32)\n",
    "validation_generator = generator(validation_samples, batch_size=32)"
   ]
  },
  {
   "cell_type": "markdown",
   "metadata": {},
   "source": [
    "### Models"
   ]
  },
  {
   "cell_type": "code",
   "execution_count": 182,
   "metadata": {
    "collapsed": true
   },
   "outputs": [],
   "source": [
    "def resize(image):\n",
    "    import tensorflow as tf  # This import is required here otherwise the model cannot be loaded in drive.py\n",
    "    return tf.image.resize_images(image, 66, 200)\n",
    "\n",
    "def halve_size(image):\n",
    "    imshape = image.shape\n",
    "    import tensorflow as tf  # This import is required here otherwise the model cannot be loaded in drive.py\n",
    "    return tf.image.resize_images(image, imshape[0] // 2, imshape[1] // 2)\n",
    "\n",
    "def resize_80_160(image):\n",
    "    imshape = image.shape\n",
    "    import tensorflow as tf  # This import is required here otherwise the model cannot be loaded in drive.py\n",
    "    return tf.image.resize_images(image, 80, 160)"
   ]
  },
  {
   "cell_type": "code",
   "execution_count": 199,
   "metadata": {
    "collapsed": true
   },
   "outputs": [
    {
     "name": "stdout",
     "output_type": "stream",
     "text": [
      "____________________________________________________________________________________________________\n",
      "Layer (type)                     Output Shape          Param #     Connected to                     \n",
      "====================================================================================================\n",
      "cropping2d_65 (Cropping2D)       (None, 90, 320, 3)    0           cropping2d_input_65[0][0]        \n",
      "____________________________________________________________________________________________________\n",
      "lambda_153 (Lambda)              (None, 66, 200, 3)    0           cropping2d_65[0][0]              \n",
      "____________________________________________________________________________________________________\n",
      "lambda_154 (Lambda)              (None, 66, 200, 1)    0           lambda_153[0][0]                 \n",
      "____________________________________________________________________________________________________\n",
      "lambda_155 (Lambda)              (None, 66, 200, 1)    0           lambda_154[0][0]                 \n",
      "____________________________________________________________________________________________________\n",
      "convolution2d_217 (Convolution2D (None, 31, 97, 24)    89880       lambda_155[0][0]                 \n",
      "____________________________________________________________________________________________________\n",
      "activation_273 (Activation)      (None, 31, 97, 24)    0           convolution2d_217[0][0]          \n",
      "____________________________________________________________________________________________________\n",
      "spatialdropout2d_136 (SpatialDro (None, 31, 97, 24)    0           activation_273[0][0]             \n",
      "____________________________________________________________________________________________________\n",
      "convolution2d_218 (Convolution2D (None, 14, 48, 36)    777636      spatialdropout2d_136[0][0]       \n",
      "____________________________________________________________________________________________________\n",
      "activation_274 (Activation)      (None, 14, 48, 36)    0           convolution2d_218[0][0]          \n",
      "____________________________________________________________________________________________________\n",
      "spatialdropout2d_137 (SpatialDro (None, 14, 48, 36)    0           activation_274[0][0]             \n",
      "____________________________________________________________________________________________________\n",
      "convolution2d_219 (Convolution2D (None, 5, 17, 48)     553008      spatialdropout2d_137[0][0]       \n",
      "____________________________________________________________________________________________________\n",
      "activation_275 (Activation)      (None, 5, 17, 48)     0           convolution2d_219[0][0]          \n",
      "____________________________________________________________________________________________________\n",
      "spatialdropout2d_138 (SpatialDro (None, 5, 17, 48)     0           activation_275[0][0]             \n",
      "____________________________________________________________________________________________________\n",
      "convolution2d_220 (Convolution2D (None, 3, 6, 64)      110656      spatialdropout2d_138[0][0]       \n",
      "____________________________________________________________________________________________________\n",
      "activation_276 (Activation)      (None, 3, 6, 64)      0           convolution2d_220[0][0]          \n",
      "____________________________________________________________________________________________________\n",
      "spatialdropout2d_139 (SpatialDro (None, 3, 6, 64)      0           activation_276[0][0]             \n",
      "____________________________________________________________________________________________________\n",
      "convolution2d_221 (Convolution2D (None, 1, 4, 64)      36928       spatialdropout2d_139[0][0]       \n",
      "____________________________________________________________________________________________________\n",
      "activation_277 (Activation)      (None, 1, 4, 64)      0           convolution2d_221[0][0]          \n",
      "____________________________________________________________________________________________________\n",
      "spatialdropout2d_140 (SpatialDro (None, 1, 4, 64)      0           activation_277[0][0]             \n",
      "____________________________________________________________________________________________________\n",
      "flatten_45 (Flatten)             (None, 256)           0           spatialdropout2d_140[0][0]       \n",
      "____________________________________________________________________________________________________\n",
      "dense_154 (Dense)                (None, 100)           25700       flatten_45[0][0]                 \n",
      "____________________________________________________________________________________________________\n",
      "activation_278 (Activation)      (None, 100)           0           dense_154[0][0]                  \n",
      "____________________________________________________________________________________________________\n",
      "dropout_150 (Dropout)            (None, 100)           0           activation_278[0][0]             \n",
      "____________________________________________________________________________________________________\n",
      "dense_155 (Dense)                (None, 50)            5050        dropout_150[0][0]                \n",
      "____________________________________________________________________________________________________\n",
      "activation_279 (Activation)      (None, 50)            0           dense_155[0][0]                  \n",
      "____________________________________________________________________________________________________\n",
      "dropout_151 (Dropout)            (None, 50)            0           activation_279[0][0]             \n",
      "____________________________________________________________________________________________________\n",
      "dense_156 (Dense)                (None, 10)            510         dropout_151[0][0]                \n",
      "____________________________________________________________________________________________________\n",
      "activation_280 (Activation)      (None, 10)            0           dense_156[0][0]                  \n",
      "____________________________________________________________________________________________________\n",
      "dropout_152 (Dropout)            (None, 10)            0           activation_280[0][0]             \n",
      "____________________________________________________________________________________________________\n",
      "dense_157 (Dense)                (None, 1)             11          dropout_152[0][0]                \n",
      "====================================================================================================\n",
      "Total params: 1599379\n",
      "____________________________________________________________________________________________________\n"
     ]
    }
   ],
   "source": [
    "# NVIDIA End to End Learning Pipeline Model\n",
    "\n",
    "model = Sequential()\n",
    "\n",
    "# Crop the images\n",
    "# TODO: I think the cropping coords here are wrong. height should be 105.6\n",
    "# to preserve aspect ratio.\n",
    "model.add(Cropping2D(cropping=((50, 20), (0, 0)),\n",
    "                     dim_ordering='tf', # default\n",
    "                     input_shape=(160, 320, 3)))\n",
    "\n",
    "# Resize the data\n",
    "model.add(Lambda(resize))\n",
    "\n",
    "model.add(Lambda(lambda x: x[:,:,:,0:1]))\n",
    "\n",
    "# Normalise data\n",
    "# TODO: some people use /255.0 - 0.5. Why?\n",
    "model.add(Lambda(lambda x: x/127.5 - 1.))\n",
    "\n",
    "\n",
    "# Conv layer 1, 5x5 kernel to 24@ (from 3@)\n",
    "# TODO: What does the number of filters MEAN?\n",
    "# Stride of 2x2\n",
    "model.add(Convolution2D(24, 36, 104,\n",
    "                        input_shape=(66,200))\n",
    "         )\n",
    "\n",
    "model.add(Activation('elu'))\n",
    "model.add(SpatialDropout2D(0.1))\n",
    "\n",
    "# Conv layer 2, 5x5 kernel to 36@\n",
    "model.add(Convolution2D(36, 18, 50))\n",
    "model.add(Activation('elu'))\n",
    "model.add(SpatialDropout2D(0.1))\n",
    "\n",
    "# Conv layer 3, 5x5 kernel to 48@\n",
    "model.add(Convolution2D(48, 10, 32))\n",
    "model.add(Activation('elu'))\n",
    "model.add(SpatialDropout2D(0.1))\n",
    "\n",
    "# Conv layer 4, 3x3 kernel to 64@\n",
    "model.add(Convolution2D(64, 3, 12))\n",
    "model.add(Activation('elu'))\n",
    "model.add(SpatialDropout2D(0.1))\n",
    "\n",
    "# Conv layer 5, 3x3 kernel to 64@\n",
    "model.add(Convolution2D(64, 3, 3))\n",
    "model.add(Activation('elu'))\n",
    "model.add(SpatialDropout2D(0.1))\n",
    "\n",
    "# Flatten\n",
    "model.add(Flatten())\n",
    "\n",
    "# Removed: fully connected layer 1, 1164 neurons\n",
    "\n",
    "# Fc2, 100 neurons\n",
    "model.add(Dense(100))\n",
    "model.add(Activation('relu'))\n",
    "model.add(Dropout(0.1))\n",
    "\n",
    "# Fc3, 50 neurons\n",
    "model.add(Dense(50))\n",
    "model.add(Activation('relu'))\n",
    "model.add(Dropout(0.1))\n",
    "\n",
    "# Fc4, 10 neurons\n",
    "model.add(Dense(10))\n",
    "model.add(Activation('relu'))\n",
    "model.add(Dropout(0.1))\n",
    "\n",
    "# Output\n",
    "model.add(Dense(1, activation=\"tanh\"))\n",
    "\n",
    "# Compile model\n",
    "# sgd = SGD(lr=0.01, decay=1e-6, momentum=0.9, nesterov=True)\n",
    "adam = Adam(lr=0.0001)\n",
    "model.compile(loss='mean_squared_error',\n",
    "              optimizer=adam,\n",
    "              metrics=['accuracy'])\n",
    "\n",
    "model.summary()"
   ]
  },
  {
   "cell_type": "code",
   "execution_count": 200,
   "metadata": {
    "collapsed": false,
    "scrolled": true
   },
   "outputs": [
    {
     "name": "stdout",
     "output_type": "stream",
     "text": [
      "____________________________________________________________________________________________________\n",
      "Layer (type)                     Output Shape          Param #     Connected to                     \n",
      "====================================================================================================\n",
      "cropping2d_66 (Cropping2D)       (None, 90, 320, 3)    0           cropping2d_input_66[0][0]        \n",
      "____________________________________________________________________________________________________\n",
      "lambda_156 (Lambda)              (None, 66, 200, 3)    0           cropping2d_66[0][0]              \n",
      "____________________________________________________________________________________________________\n",
      "lambda_157 (Lambda)              (None, 66, 200, 1)    0           lambda_156[0][0]                 \n",
      "____________________________________________________________________________________________________\n",
      "lambda_158 (Lambda)              (None, 66, 200, 1)    0           lambda_157[0][0]                 \n",
      "____________________________________________________________________________________________________\n",
      "convolution2d_222 (Convolution2D (None, 17, 50, 16)    1040        lambda_158[0][0]                 \n",
      "____________________________________________________________________________________________________\n",
      "elu_45 (ELU)                     (None, 17, 50, 16)    0           convolution2d_222[0][0]          \n",
      "____________________________________________________________________________________________________\n",
      "convolution2d_223 (Convolution2D (None, 9, 25, 32)     12832       elu_45[0][0]                     \n",
      "____________________________________________________________________________________________________\n",
      "elu_46 (ELU)                     (None, 9, 25, 32)     0           convolution2d_223[0][0]          \n",
      "____________________________________________________________________________________________________\n",
      "convolution2d_224 (Convolution2D (None, 5, 13, 64)     51264       elu_46[0][0]                     \n",
      "____________________________________________________________________________________________________\n",
      "flatten_46 (Flatten)             (None, 4160)          0           convolution2d_224[0][0]          \n",
      "____________________________________________________________________________________________________\n",
      "dropout_153 (Dropout)            (None, 4160)          0           flatten_46[0][0]                 \n",
      "____________________________________________________________________________________________________\n",
      "elu_47 (ELU)                     (None, 4160)          0           dropout_153[0][0]                \n",
      "____________________________________________________________________________________________________\n",
      "dense_158 (Dense)                (None, 512)           2130432     elu_47[0][0]                     \n",
      "____________________________________________________________________________________________________\n",
      "dropout_154 (Dropout)            (None, 512)           0           dense_158[0][0]                  \n",
      "____________________________________________________________________________________________________\n",
      "elu_48 (ELU)                     (None, 512)           0           dropout_154[0][0]                \n",
      "____________________________________________________________________________________________________\n",
      "dense_159 (Dense)                (None, 1)             513         elu_48[0][0]                     \n",
      "====================================================================================================\n",
      "Total params: 2196081\n",
      "____________________________________________________________________________________________________\n"
     ]
    }
   ],
   "source": [
    "# Comma.ai model\n",
    "# https://github.com/commaai/research/blob/master/train_steering_model.py\n",
    "\n",
    "model = Sequential()\n",
    "\n",
    "# Crop 50 pixels from the top of the image and 20 from the bottom\n",
    "model.add(Cropping2D(cropping=((50, 20), (0, 0)),\n",
    "                     dim_ordering='tf', # default\n",
    "                     input_shape=(160, 320, 3)))\n",
    "\n",
    "# Resize the data\n",
    "model.add(Lambda(resize))\n",
    "\n",
    "model.add(Lambda(lambda x: x[:,:,:,0:1]))\n",
    "\n",
    "model.add(Lambda(lambda x: (x/127.5) - 1.))\n",
    "\n",
    "model.add(Convolution2D(16, 8, 8, subsample=(4, 4), border_mode=\"same\"))\n",
    "model.add(ELU())\n",
    "\n",
    "model.add(Convolution2D(32, 5, 5, subsample=(2, 2), border_mode=\"same\"))\n",
    "model.add(ELU())\n",
    "\n",
    "model.add(Convolution2D(64, 5, 5, subsample=(2, 2), border_mode=\"same\"))\n",
    "\n",
    "model.add(Flatten())\n",
    "# model.add(Dropout(.2))\n",
    "model.add(ELU())\n",
    "\n",
    "model.add(Dense(512))\n",
    "# model.add(Dropout(.5))\n",
    "model.add(ELU())\n",
    "\n",
    "model.add(Dense(1))\n",
    "\n",
    "adam = Adam(lr=0.0001)\n",
    "\n",
    "model.compile(optimizer=adam, loss=\"mse\", metrics=['accuracy'])\n",
    "\n",
    "model.summary()"
   ]
  },
  {
   "cell_type": "markdown",
   "metadata": {},
   "source": [
    "Data preprocessing reference: [Geoff Breemer](https://carnd-forums.udacity.com/questions/36045049/answers/36047341)"
   ]
  },
  {
   "cell_type": "markdown",
   "metadata": {},
   "source": [
    "### Train model"
   ]
  },
  {
   "cell_type": "code",
   "execution_count": 201,
   "metadata": {
    "collapsed": false
   },
   "outputs": [
    {
     "name": "stdout",
     "output_type": "stream",
     "text": [
      "Epoch 1/20\n",
      "4608/6428 [====================>.........] - ETA: 8s - loss: 0.0134 - acc: 0.5443"
     ]
    },
    {
     "ename": "KeyboardInterrupt",
     "evalue": "",
     "output_type": "error",
     "traceback": [
      "\u001b[0;31m---------------------------------------------------------------------------\u001b[0m",
      "\u001b[0;31mKeyboardInterrupt\u001b[0m                         Traceback (most recent call last)",
      "\u001b[0;32m<ipython-input-201-698eac4cd5b8>\u001b[0m in \u001b[0;36m<module>\u001b[0;34m()\u001b[0m\n\u001b[1;32m     10\u001b[0m                     \u001b[0mvalidation_data\u001b[0m\u001b[0;34m=\u001b[0m\u001b[0mvalidation_generator\u001b[0m\u001b[0;34m,\u001b[0m\u001b[0;34m\u001b[0m\u001b[0m\n\u001b[1;32m     11\u001b[0m                     \u001b[0mnb_val_samples\u001b[0m\u001b[0;34m=\u001b[0m\u001b[0mlen\u001b[0m\u001b[0;34m(\u001b[0m\u001b[0mvalidation_samples\u001b[0m\u001b[0;34m)\u001b[0m\u001b[0;34m,\u001b[0m \u001b[0mnb_epoch\u001b[0m\u001b[0;34m=\u001b[0m\u001b[0mnb_epoch\u001b[0m\u001b[0;34m,\u001b[0m\u001b[0;34m\u001b[0m\u001b[0m\n\u001b[0;32m---> 12\u001b[0;31m                     callbacks=[checkpointer])\n\u001b[0m",
      "\u001b[0;32m/Users/jessica/anaconda/lib/python3.5/site-packages/keras/models.py\u001b[0m in \u001b[0;36mfit_generator\u001b[0;34m(self, generator, samples_per_epoch, nb_epoch, verbose, callbacks, validation_data, nb_val_samples, class_weight, max_q_size, nb_worker, pickle_safe, **kwargs)\u001b[0m\n\u001b[1;32m    905\u001b[0m                                         \u001b[0mmax_q_size\u001b[0m\u001b[0;34m=\u001b[0m\u001b[0mmax_q_size\u001b[0m\u001b[0;34m,\u001b[0m\u001b[0;34m\u001b[0m\u001b[0m\n\u001b[1;32m    906\u001b[0m                                         \u001b[0mnb_worker\u001b[0m\u001b[0;34m=\u001b[0m\u001b[0mnb_worker\u001b[0m\u001b[0;34m,\u001b[0m\u001b[0;34m\u001b[0m\u001b[0m\n\u001b[0;32m--> 907\u001b[0;31m                                         pickle_safe=pickle_safe)\n\u001b[0m\u001b[1;32m    908\u001b[0m \u001b[0;34m\u001b[0m\u001b[0m\n\u001b[1;32m    909\u001b[0m     def evaluate_generator(self, generator, val_samples,\n",
      "\u001b[0;32m/Users/jessica/anaconda/lib/python3.5/site-packages/keras/engine/training.py\u001b[0m in \u001b[0;36mfit_generator\u001b[0;34m(self, generator, samples_per_epoch, nb_epoch, verbose, callbacks, validation_data, nb_val_samples, class_weight, max_q_size, nb_worker, pickle_safe, initial_epoch)\u001b[0m\n\u001b[1;32m   1449\u001b[0m                     outs = self.train_on_batch(x, y,\n\u001b[1;32m   1450\u001b[0m                                                \u001b[0msample_weight\u001b[0m\u001b[0;34m=\u001b[0m\u001b[0msample_weight\u001b[0m\u001b[0;34m,\u001b[0m\u001b[0;34m\u001b[0m\u001b[0m\n\u001b[0;32m-> 1451\u001b[0;31m                                                class_weight=class_weight)\n\u001b[0m\u001b[1;32m   1452\u001b[0m                 \u001b[0;32mexcept\u001b[0m\u001b[0;34m:\u001b[0m\u001b[0;34m\u001b[0m\u001b[0m\n\u001b[1;32m   1453\u001b[0m                     \u001b[0m_stop\u001b[0m\u001b[0;34m.\u001b[0m\u001b[0mset\u001b[0m\u001b[0;34m(\u001b[0m\u001b[0;34m)\u001b[0m\u001b[0;34m\u001b[0m\u001b[0m\n",
      "\u001b[0;32m/Users/jessica/anaconda/lib/python3.5/site-packages/keras/engine/training.py\u001b[0m in \u001b[0;36mtrain_on_batch\u001b[0;34m(self, x, y, sample_weight, class_weight)\u001b[0m\n\u001b[1;32m   1224\u001b[0m             \u001b[0mins\u001b[0m \u001b[0;34m=\u001b[0m \u001b[0mx\u001b[0m \u001b[0;34m+\u001b[0m \u001b[0my\u001b[0m \u001b[0;34m+\u001b[0m \u001b[0msample_weights\u001b[0m\u001b[0;34m\u001b[0m\u001b[0m\n\u001b[1;32m   1225\u001b[0m         \u001b[0mself\u001b[0m\u001b[0;34m.\u001b[0m\u001b[0m_make_train_function\u001b[0m\u001b[0;34m(\u001b[0m\u001b[0;34m)\u001b[0m\u001b[0;34m\u001b[0m\u001b[0m\n\u001b[0;32m-> 1226\u001b[0;31m         \u001b[0moutputs\u001b[0m \u001b[0;34m=\u001b[0m \u001b[0mself\u001b[0m\u001b[0;34m.\u001b[0m\u001b[0mtrain_function\u001b[0m\u001b[0;34m(\u001b[0m\u001b[0mins\u001b[0m\u001b[0;34m)\u001b[0m\u001b[0;34m\u001b[0m\u001b[0m\n\u001b[0m\u001b[1;32m   1227\u001b[0m         \u001b[0;32mif\u001b[0m \u001b[0mlen\u001b[0m\u001b[0;34m(\u001b[0m\u001b[0moutputs\u001b[0m\u001b[0;34m)\u001b[0m \u001b[0;34m==\u001b[0m \u001b[0;36m1\u001b[0m\u001b[0;34m:\u001b[0m\u001b[0;34m\u001b[0m\u001b[0m\n\u001b[1;32m   1228\u001b[0m             \u001b[0;32mreturn\u001b[0m \u001b[0moutputs\u001b[0m\u001b[0;34m[\u001b[0m\u001b[0;36m0\u001b[0m\u001b[0;34m]\u001b[0m\u001b[0;34m\u001b[0m\u001b[0m\n",
      "\u001b[0;32m/Users/jessica/anaconda/lib/python3.5/site-packages/keras/backend/tensorflow_backend.py\u001b[0m in \u001b[0;36m__call__\u001b[0;34m(self, inputs)\u001b[0m\n\u001b[1;32m   1094\u001b[0m             \u001b[0mfeed_dict\u001b[0m\u001b[0;34m[\u001b[0m\u001b[0mtensor\u001b[0m\u001b[0;34m]\u001b[0m \u001b[0;34m=\u001b[0m \u001b[0mvalue\u001b[0m\u001b[0;34m\u001b[0m\u001b[0m\n\u001b[1;32m   1095\u001b[0m         \u001b[0msession\u001b[0m \u001b[0;34m=\u001b[0m \u001b[0mget_session\u001b[0m\u001b[0;34m(\u001b[0m\u001b[0;34m)\u001b[0m\u001b[0;34m\u001b[0m\u001b[0m\n\u001b[0;32m-> 1096\u001b[0;31m         \u001b[0mupdated\u001b[0m \u001b[0;34m=\u001b[0m \u001b[0msession\u001b[0m\u001b[0;34m.\u001b[0m\u001b[0mrun\u001b[0m\u001b[0;34m(\u001b[0m\u001b[0mself\u001b[0m\u001b[0;34m.\u001b[0m\u001b[0moutputs\u001b[0m \u001b[0;34m+\u001b[0m \u001b[0;34m[\u001b[0m\u001b[0mself\u001b[0m\u001b[0;34m.\u001b[0m\u001b[0mupdates_op\u001b[0m\u001b[0;34m]\u001b[0m\u001b[0;34m,\u001b[0m \u001b[0mfeed_dict\u001b[0m\u001b[0;34m=\u001b[0m\u001b[0mfeed_dict\u001b[0m\u001b[0;34m)\u001b[0m\u001b[0;34m\u001b[0m\u001b[0m\n\u001b[0m\u001b[1;32m   1097\u001b[0m         \u001b[0;32mreturn\u001b[0m \u001b[0mupdated\u001b[0m\u001b[0;34m[\u001b[0m\u001b[0;34m:\u001b[0m\u001b[0mlen\u001b[0m\u001b[0;34m(\u001b[0m\u001b[0mself\u001b[0m\u001b[0;34m.\u001b[0m\u001b[0moutputs\u001b[0m\u001b[0;34m)\u001b[0m\u001b[0;34m]\u001b[0m\u001b[0;34m\u001b[0m\u001b[0m\n\u001b[1;32m   1098\u001b[0m \u001b[0;34m\u001b[0m\u001b[0m\n",
      "\u001b[0;32m/Users/jessica/anaconda/lib/python3.5/site-packages/tensorflow/python/client/session.py\u001b[0m in \u001b[0;36mrun\u001b[0;34m(self, fetches, feed_dict, options, run_metadata)\u001b[0m\n\u001b[1;32m    370\u001b[0m     \u001b[0;32mtry\u001b[0m\u001b[0;34m:\u001b[0m\u001b[0;34m\u001b[0m\u001b[0m\n\u001b[1;32m    371\u001b[0m       result = self._run(None, fetches, feed_dict, options_ptr,\n\u001b[0;32m--> 372\u001b[0;31m                          run_metadata_ptr)\n\u001b[0m\u001b[1;32m    373\u001b[0m       \u001b[0;32mif\u001b[0m \u001b[0mrun_metadata\u001b[0m\u001b[0;34m:\u001b[0m\u001b[0;34m\u001b[0m\u001b[0m\n\u001b[1;32m    374\u001b[0m         \u001b[0mproto_data\u001b[0m \u001b[0;34m=\u001b[0m \u001b[0mtf_session\u001b[0m\u001b[0;34m.\u001b[0m\u001b[0mTF_GetBuffer\u001b[0m\u001b[0;34m(\u001b[0m\u001b[0mrun_metadata_ptr\u001b[0m\u001b[0;34m)\u001b[0m\u001b[0;34m\u001b[0m\u001b[0m\n",
      "\u001b[0;32m/Users/jessica/anaconda/lib/python3.5/site-packages/tensorflow/python/client/session.py\u001b[0m in \u001b[0;36m_run\u001b[0;34m(self, handle, fetches, feed_dict, options, run_metadata)\u001b[0m\n\u001b[1;32m    634\u001b[0m     \u001b[0;32mtry\u001b[0m\u001b[0;34m:\u001b[0m\u001b[0;34m\u001b[0m\u001b[0m\n\u001b[1;32m    635\u001b[0m       results = self._do_run(handle, target_list, unique_fetches,\n\u001b[0;32m--> 636\u001b[0;31m                              feed_dict_string, options, run_metadata)\n\u001b[0m\u001b[1;32m    637\u001b[0m     \u001b[0;32mfinally\u001b[0m\u001b[0;34m:\u001b[0m\u001b[0;34m\u001b[0m\u001b[0m\n\u001b[1;32m    638\u001b[0m       \u001b[0;31m# The movers are no longer used. Delete them.\u001b[0m\u001b[0;34m\u001b[0m\u001b[0;34m\u001b[0m\u001b[0m\n",
      "\u001b[0;32m/Users/jessica/anaconda/lib/python3.5/site-packages/tensorflow/python/client/session.py\u001b[0m in \u001b[0;36m_do_run\u001b[0;34m(self, handle, target_list, fetch_list, feed_dict, options, run_metadata)\u001b[0m\n\u001b[1;32m    706\u001b[0m     \u001b[0;32mif\u001b[0m \u001b[0mhandle\u001b[0m \u001b[0;32mis\u001b[0m \u001b[0;32mNone\u001b[0m\u001b[0;34m:\u001b[0m\u001b[0;34m\u001b[0m\u001b[0m\n\u001b[1;32m    707\u001b[0m       return self._do_call(_run_fn, self._session, feed_dict, fetch_list,\n\u001b[0;32m--> 708\u001b[0;31m                            target_list, options, run_metadata)\n\u001b[0m\u001b[1;32m    709\u001b[0m     \u001b[0;32melse\u001b[0m\u001b[0;34m:\u001b[0m\u001b[0;34m\u001b[0m\u001b[0m\n\u001b[1;32m    710\u001b[0m       return self._do_call(_prun_fn, self._session, handle, feed_dict,\n",
      "\u001b[0;32m/Users/jessica/anaconda/lib/python3.5/site-packages/tensorflow/python/client/session.py\u001b[0m in \u001b[0;36m_do_call\u001b[0;34m(self, fn, *args)\u001b[0m\n\u001b[1;32m    713\u001b[0m   \u001b[0;32mdef\u001b[0m \u001b[0m_do_call\u001b[0m\u001b[0;34m(\u001b[0m\u001b[0mself\u001b[0m\u001b[0;34m,\u001b[0m \u001b[0mfn\u001b[0m\u001b[0;34m,\u001b[0m \u001b[0;34m*\u001b[0m\u001b[0margs\u001b[0m\u001b[0;34m)\u001b[0m\u001b[0;34m:\u001b[0m\u001b[0;34m\u001b[0m\u001b[0m\n\u001b[1;32m    714\u001b[0m     \u001b[0;32mtry\u001b[0m\u001b[0;34m:\u001b[0m\u001b[0;34m\u001b[0m\u001b[0m\n\u001b[0;32m--> 715\u001b[0;31m       \u001b[0;32mreturn\u001b[0m \u001b[0mfn\u001b[0m\u001b[0;34m(\u001b[0m\u001b[0;34m*\u001b[0m\u001b[0margs\u001b[0m\u001b[0;34m)\u001b[0m\u001b[0;34m\u001b[0m\u001b[0m\n\u001b[0m\u001b[1;32m    716\u001b[0m     \u001b[0;32mexcept\u001b[0m \u001b[0merrors\u001b[0m\u001b[0;34m.\u001b[0m\u001b[0mOpError\u001b[0m \u001b[0;32mas\u001b[0m \u001b[0me\u001b[0m\u001b[0;34m:\u001b[0m\u001b[0;34m\u001b[0m\u001b[0m\n\u001b[1;32m    717\u001b[0m       \u001b[0mmessage\u001b[0m \u001b[0;34m=\u001b[0m \u001b[0mcompat\u001b[0m\u001b[0;34m.\u001b[0m\u001b[0mas_text\u001b[0m\u001b[0;34m(\u001b[0m\u001b[0me\u001b[0m\u001b[0;34m.\u001b[0m\u001b[0mmessage\u001b[0m\u001b[0;34m)\u001b[0m\u001b[0;34m\u001b[0m\u001b[0m\n",
      "\u001b[0;32m/Users/jessica/anaconda/lib/python3.5/site-packages/tensorflow/python/client/session.py\u001b[0m in \u001b[0;36m_run_fn\u001b[0;34m(session, feed_dict, fetch_list, target_list, options, run_metadata)\u001b[0m\n\u001b[1;32m    695\u001b[0m         return tf_session.TF_Run(session, options,\n\u001b[1;32m    696\u001b[0m                                  \u001b[0mfeed_dict\u001b[0m\u001b[0;34m,\u001b[0m \u001b[0mfetch_list\u001b[0m\u001b[0;34m,\u001b[0m \u001b[0mtarget_list\u001b[0m\u001b[0;34m,\u001b[0m\u001b[0;34m\u001b[0m\u001b[0m\n\u001b[0;32m--> 697\u001b[0;31m                                  status, run_metadata)\n\u001b[0m\u001b[1;32m    698\u001b[0m \u001b[0;34m\u001b[0m\u001b[0m\n\u001b[1;32m    699\u001b[0m     \u001b[0;32mdef\u001b[0m \u001b[0m_prun_fn\u001b[0m\u001b[0;34m(\u001b[0m\u001b[0msession\u001b[0m\u001b[0;34m,\u001b[0m \u001b[0mhandle\u001b[0m\u001b[0;34m,\u001b[0m \u001b[0mfeed_dict\u001b[0m\u001b[0;34m,\u001b[0m \u001b[0mfetch_list\u001b[0m\u001b[0;34m)\u001b[0m\u001b[0;34m:\u001b[0m\u001b[0;34m\u001b[0m\u001b[0m\n",
      "\u001b[0;31mKeyboardInterrupt\u001b[0m: "
     ]
    }
   ],
   "source": [
    "# Train model\n",
    "batch_size = 32\n",
    "nb_epoch = 20\n",
    "# data_augmentation = True\n",
    " \n",
    "checkpointer = ModelCheckpoint(filepath=\"./tmp/comma-weights.{epoch:02d}-{val_loss:.2f}.hdf5\", verbose=1, save_best_only=False)\n",
    "    \n",
    "model.fit_generator(train_generator, \n",
    "                    samples_per_epoch=len(train_samples), \n",
    "                    validation_data=validation_generator,\n",
    "                    nb_val_samples=len(validation_samples), nb_epoch=nb_epoch,\n",
    "                    callbacks=[checkpointer])"
   ]
  },
  {
   "cell_type": "code",
   "execution_count": 143,
   "metadata": {
    "collapsed": false
   },
   "outputs": [
    {
     "name": "stdout",
     "output_type": "stream",
     "text": [
      "Saved model to disk\n"
     ]
    }
   ],
   "source": [
    "from keras.models import model_from_json\n",
    "\n",
    "model_json = model.to_json()\n",
    "with open(\"model.json\", \"w\") as json_file:\n",
    "    json_file.write(model_json)\n",
    "    \n",
    "model.save_weights(\"model.h5\")\n",
    "print(\"Saved model to disk\")"
   ]
  },
  {
   "cell_type": "raw",
   "metadata": {
    "collapsed": false
   },
   "source": [
    "# Train model\n",
    "batch_size = 5\n",
    "nb_epoch = 30\n",
    "# data_augmentation = True\n",
    "\n",
    "model.fit(X_train, y_train,\n",
    "              batch_size=batch_size,\n",
    "              nb_epoch=nb_epoch,\n",
    "              # validation_split=0.1,\n",
    "              validation_data=(X_val, y_val),\n",
    "              # shuffle=True\n",
    "         )"
   ]
  },
  {
   "cell_type": "raw",
   "metadata": {},
   "source": [
    "\n",
    "\n",
    "def flip(image):\n",
    "    import tensorflow as tf\n",
    "    return tf.reverse_sequence(image, [200] * 66, 1, batch_dim=0)\n",
    "\n",
    "def flip_tf(image):\n",
    "    import tensorflow as tf\n",
    "    return tf.image.flip_left_right(image)"
   ]
  }
 ],
 "metadata": {
  "hide_input": false,
  "kernelspec": {
   "display_name": "Python 3",
   "language": "python",
   "name": "python3"
  },
  "language_info": {
   "codemirror_mode": {
    "name": "ipython",
    "version": 3
   },
   "file_extension": ".py",
   "mimetype": "text/x-python",
   "name": "python",
   "nbconvert_exporter": "python",
   "pygments_lexer": "ipython3",
   "version": "3.5.1"
  }
 },
 "nbformat": 4,
 "nbformat_minor": 1
}
