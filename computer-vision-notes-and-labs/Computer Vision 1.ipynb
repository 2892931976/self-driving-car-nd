{
 "cells": [
  {
   "cell_type": "markdown",
   "metadata": {},
   "source": [
    "# Computer Vision"
   ]
  },
  {
   "cell_type": "markdown",
   "metadata": {},
   "source": [
    "Robotics:\n",
    "1. Perception: Sense what is in the world (CV)\n",
    "    - Detect lane markings, vehicles.\n",
    "    - Alternative to cameras: radar + lidar (see the world in 3D, more costly, lower spatial resolution compared to cameras)\n",
    "        - Possible that in future cars are fitted with only a few cameras for perception as opposed to cameras, radars and lidars.\n",
    "2. Decide what to do based on that perception\n",
    "3. Perform action to carry out decision\n",
    "\n"
   ]
  },
  {
   "cell_type": "markdown",
   "metadata": {},
   "source": [
    "Two pieces:\n",
    "- Advanced lane lines\n",
    "- Vehicle (other vehicles) location and tracking"
   ]
  },
  {
   "cell_type": "markdown",
   "metadata": {},
   "source": [
    "**Action: Steer car** \n",
    "- Steer car: Need to measure how much lane is curving. \n",
    "- Need to get perspective transformation from front view to birds-eye view.\n",
    "- Correct for effect of image distortion.\n",
    "    - changes shape and size of objects.\n"
   ]
  },
  {
   "cell_type": "markdown",
   "metadata": {},
   "source": [
    "## Correcting for image distortion\n",
    "\n",
    "### Types of distortion\n",
    "\n",
    "#### Pinhole camera model\n",
    "Upside-down and reversed image.\n",
    "\n",
    "Real cameras don't use pinholes - they use lenses. Lenses introduce distortion. Light rays bend too much or too little at the edges of a lens.\n",
    "\n",
    "**Radial distortion**: Real cameras use curved lenses to form an image, and light rays often bend a little too much or too little at the edges of these lenses. This creates an effect that distorts the edges of images, so that lines or objects appear more or less curved than they actually are. This is called radial distortion, and it’s the most common type of distortion.\n",
    "- Fisheye lenses use radial distortion for a stylistic effect.\n",
    "\n",
    "**Tangential distortion**: This occurs when a camera’s lens is not aligned perfectly parallel to the imaging plane, where the camera film or sensor is. This makes an image look tilted so that some objects appear farther away or closer than they actually are.\n",
    "\n",
    "### Distortion coefficients and correction\n",
    "Typically five coefficients\n",
    "\n",
    "*image*\n",
    "\n"
   ]
  }
 ],
 "metadata": {
  "kernelspec": {
   "display_name": "Python 3",
   "language": "python",
   "name": "python3"
  },
  "language_info": {
   "codemirror_mode": {
    "name": "ipython",
    "version": 3
   },
   "file_extension": ".py",
   "mimetype": "text/x-python",
   "name": "python",
   "nbconvert_exporter": "python",
   "pygments_lexer": "ipython3",
   "version": "3.5.1"
  }
 },
 "nbformat": 4,
 "nbformat_minor": 0
}
