{
 "cells": [
  {
   "cell_type": "code",
   "execution_count": 19,
   "metadata": {
    "collapsed": false
   },
   "outputs": [],
   "source": [
    "import numpy as np\n",
    "import cv2\n",
    "import matplotlib.pyplot as plt\n",
    "\n",
    "from helperfunctions import *"
   ]
  },
  {
   "cell_type": "code",
   "execution_count": 20,
   "metadata": {
    "collapsed": true
   },
   "outputs": [],
   "source": [
    "with open(\"camera_calibration_result.p\", mode='rb') as f:\n",
    "    camera_calib = pickle.load(f)\n",
    "mtx = camera_calib[\"mtx\"]\n",
    "dist = camera_calib[\"dist\"]"
   ]
  },
  {
   "cell_type": "code",
   "execution_count": 21,
   "metadata": {
    "collapsed": false
   },
   "outputs": [
    {
     "ename": "NameError",
     "evalue": "name 'img' is not defined",
     "output_type": "error",
     "traceback": [
      "\u001b[0;31m---------------------------------------------------------------------------\u001b[0m",
      "\u001b[0;31mNameError\u001b[0m                                 Traceback (most recent call last)",
      "\u001b[0;32m<ipython-input-21-fe88885dd816>\u001b[0m in \u001b[0;36m<module>\u001b[0;34m()\u001b[0m\n\u001b[1;32m     98\u001b[0m     \u001b[0;32mreturn\u001b[0m \u001b[0mcombined_img\u001b[0m\u001b[0;34m\u001b[0m\u001b[0m\n\u001b[1;32m     99\u001b[0m \u001b[0;34m\u001b[0m\u001b[0m\n\u001b[0;32m--> 100\u001b[0;31m \u001b[0mimage_pipeline\u001b[0m\u001b[0;34m(\u001b[0m\u001b[0;34m\"test_images/test2.jpg\"\u001b[0m\u001b[0;34m)\u001b[0m\u001b[0;34m\u001b[0m\u001b[0m\n\u001b[0m",
      "\u001b[0;32m<ipython-input-21-fe88885dd816>\u001b[0m in \u001b[0;36mimage_pipeline\u001b[0;34m(filepath)\u001b[0m\n\u001b[1;32m     36\u001b[0m \u001b[0;34m\u001b[0m\u001b[0m\n\u001b[1;32m     37\u001b[0m     \u001b[0;31m## Option I\u001b[0m\u001b[0;34m\u001b[0m\u001b[0;34m\u001b[0m\u001b[0m\n\u001b[0;32m---> 38\u001b[0;31m     \u001b[0mcombined\u001b[0m \u001b[0;34m=\u001b[0m \u001b[0mapply_thresholds\u001b[0m\u001b[0;34m(\u001b[0m\u001b[0mimage\u001b[0m\u001b[0;34m)\u001b[0m\u001b[0;34m\u001b[0m\u001b[0m\n\u001b[0m\u001b[1;32m     39\u001b[0m \u001b[0;34m\u001b[0m\u001b[0m\n\u001b[1;32m     40\u001b[0m     \u001b[0;31m## Option II\u001b[0m\u001b[0;34m\u001b[0m\u001b[0;34m\u001b[0m\u001b[0m\n",
      "\u001b[0;32m/Users/jessica/GitHub/self-driving-car-nd/p4-advanced-lane-lines/helperfunctions.py\u001b[0m in \u001b[0;36mapply_thresholds\u001b[0;34m(image, ksize)\u001b[0m\n\u001b[1;32m    137\u001b[0m     \u001b[0mgrady\u001b[0m \u001b[0;34m=\u001b[0m \u001b[0mabs_sobel_thresh\u001b[0m\u001b[0;34m(\u001b[0m\u001b[0mimage\u001b[0m\u001b[0;34m,\u001b[0m \u001b[0morient\u001b[0m\u001b[0;34m=\u001b[0m\u001b[0;34m'y'\u001b[0m\u001b[0;34m,\u001b[0m \u001b[0msobel_kernel\u001b[0m\u001b[0;34m=\u001b[0m\u001b[0mksize\u001b[0m\u001b[0;34m,\u001b[0m \u001b[0mthresh\u001b[0m\u001b[0;34m=\u001b[0m\u001b[0;34m(\u001b[0m\u001b[0;36m70\u001b[0m\u001b[0;34m,\u001b[0m \u001b[0;36m200\u001b[0m\u001b[0;34m)\u001b[0m\u001b[0;34m)\u001b[0m\u001b[0;34m\u001b[0m\u001b[0m\n\u001b[1;32m    138\u001b[0m     \u001b[0mmag_binary\u001b[0m \u001b[0;34m=\u001b[0m \u001b[0mmag_thresh\u001b[0m\u001b[0;34m(\u001b[0m\u001b[0mimage\u001b[0m\u001b[0;34m,\u001b[0m \u001b[0msobel_kernel\u001b[0m\u001b[0;34m=\u001b[0m\u001b[0mksize\u001b[0m\u001b[0;34m,\u001b[0m \u001b[0mmag_thresh\u001b[0m\u001b[0;34m=\u001b[0m\u001b[0;34m(\u001b[0m\u001b[0;36m70\u001b[0m\u001b[0;34m,\u001b[0m \u001b[0;36m255\u001b[0m\u001b[0;34m)\u001b[0m\u001b[0;34m)\u001b[0m\u001b[0;34m\u001b[0m\u001b[0m\n\u001b[0;32m--> 139\u001b[0;31m     \u001b[0mdir_binary\u001b[0m \u001b[0;34m=\u001b[0m \u001b[0mdir_threshold\u001b[0m\u001b[0;34m(\u001b[0m\u001b[0mimage\u001b[0m\u001b[0;34m,\u001b[0m \u001b[0msobel_kernel\u001b[0m\u001b[0;34m=\u001b[0m\u001b[0mksize\u001b[0m\u001b[0;34m,\u001b[0m \u001b[0mthresh\u001b[0m\u001b[0;34m=\u001b[0m\u001b[0;34m(\u001b[0m\u001b[0;36m0.1\u001b[0m\u001b[0;34m,\u001b[0m \u001b[0;36m1.5\u001b[0m\u001b[0;34m)\u001b[0m\u001b[0;34m)\u001b[0m\u001b[0;34m\u001b[0m\u001b[0m\n\u001b[0m\u001b[1;32m    140\u001b[0m \u001b[0;34m\u001b[0m\u001b[0m\n\u001b[1;32m    141\u001b[0m     \u001b[0;31m# Combine thresholds\u001b[0m\u001b[0;34m\u001b[0m\u001b[0;34m\u001b[0m\u001b[0m\n",
      "\u001b[0;32m/Users/jessica/GitHub/self-driving-car-nd/p4-advanced-lane-lines/helperfunctions.py\u001b[0m in \u001b[0;36mdir_threshold\u001b[0;34m(image, sobel_kernel, thresh)\u001b[0m\n\u001b[1;32m    111\u001b[0m     \u001b[0;31m# Apply the following steps to img\u001b[0m\u001b[0;34m\u001b[0m\u001b[0;34m\u001b[0m\u001b[0m\n\u001b[1;32m    112\u001b[0m     \u001b[0;31m# 1) Convert to grayscale\u001b[0m\u001b[0;34m\u001b[0m\u001b[0;34m\u001b[0m\u001b[0m\n\u001b[0;32m--> 113\u001b[0;31m     \u001b[0mgray\u001b[0m \u001b[0;34m=\u001b[0m \u001b[0mcv2\u001b[0m\u001b[0;34m.\u001b[0m\u001b[0mcvtColor\u001b[0m\u001b[0;34m(\u001b[0m\u001b[0mimage\u001b[0m\u001b[0;34m,\u001b[0m \u001b[0mcv2\u001b[0m\u001b[0;34m.\u001b[0m\u001b[0mCOLOR_RGB2GRAY\u001b[0m\u001b[0;34m)\u001b[0m\u001b[0;34m\u001b[0m\u001b[0m\n\u001b[0m\u001b[1;32m    114\u001b[0m \u001b[0;34m\u001b[0m\u001b[0m\n\u001b[1;32m    115\u001b[0m     \u001b[0;31m# 2) Take the gradient in x and y separately\u001b[0m\u001b[0;34m\u001b[0m\u001b[0;34m\u001b[0m\u001b[0m\n",
      "\u001b[0;31mNameError\u001b[0m: name 'img' is not defined"
     ]
    }
   ],
   "source": [
    "def image_pipeline(filepath):\n",
    "    # Read in image\n",
    "    raw = cv2.imread(filepath)\n",
    "\n",
    "    # Parameters\n",
    "    imshape = raw.shape\n",
    "\n",
    "    src = np.float32(\n",
    "        [[0, 720],\n",
    "         [550, 470],\n",
    "         [700, 470],\n",
    "         [720, 1280]])\n",
    "\n",
    "    dst = np.float32(\n",
    "        [[200, 720],\n",
    "         [200, 0],\n",
    "         [900, 0],\n",
    "         [900, 720]])\n",
    "\n",
    "    M = cv2.getPerspectiveTransform(src, dst)\n",
    "    Minv = cv2.getPerspectiveTransform(dst, src)\n",
    "\n",
    "    height = raw.shape[0]\n",
    "    offset = 50\n",
    "    offset_height = height - offset\n",
    "    half_frame = raw.shape[1] // 2\n",
    "    steps = 6\n",
    "    pixels_per_step = offset_height / steps\n",
    "    window_radius = 200\n",
    "    medianfilt_kernel_size = 51\n",
    "\n",
    "    blank_canvas = np.zeros((720, 1280))\n",
    "\n",
    "    # Apply distortion correction to raw image\n",
    "    image = cv2.undistort(raw, mtx, dist, None, mtx)\n",
    "\n",
    "    ## Option I\n",
    "    combined = apply_thresholds(image)\n",
    "\n",
    "    ## Option II\n",
    "\n",
    "    combined_binary = apply_threshold_v2(image)\n",
    "\n",
    "    # Plotting thresholded images\n",
    "    \"\"\"\n",
    "    f, (ax1, ax2) = plt.subplots(1, 2, figsize=(20,10))\n",
    "    ax1.set_title('Option 1')\n",
    "    ax1.imshow(combined, cmap=\"gray\")\n",
    "\n",
    "    ax2.set_title('Option 2: Combined S channel and gradient thresholds')\n",
    "    ax2.imshow(combined_binary, cmap='gray')\n",
    "    \"\"\"\n",
    "\n",
    "    # Warp onto birds-eye-view\n",
    "    # Previous region-of-interest mask's function is absorbed by the warp\n",
    "    warped = cv2.warpPerspective(combined_binary, M, (imshape[1], imshape[0]), flags=cv2.INTER_LINEAR)\n",
    "    # plt.imshow(warped, cmap=\"gray\")\n",
    "\n",
    "\n",
    "    # Histogram and get pixels in window\n",
    "\n",
    "    leftx, lefty, rightx, righty = histogram_pixels(warped)\n",
    "\n",
    "    left_fit = fit_second_order_poly(lefty, leftx)\n",
    "    right_fit = fit_second_order_poly(righty, rightx)\n",
    "\n",
    "    # Plot data\n",
    "    #    plt.plot(left_fitx, lefty, color='green', linewidth=3)\n",
    "    #    plt.plot(right_fitx, righty, color='green', linewidth=3)\n",
    "    #    plt.imshow(warped, cmap=\"gray\")\n",
    "\n",
    "    # Determine curvature of the lane\n",
    "    # Define y-value where we want radius of curvature\n",
    "    # I'll choose the maximum y-value, corresponding to the bottom of the image\n",
    "    y_eval = np.max(lefty)\n",
    "    left_curverad = ((1 + (2 * left_fit[0] * y_eval + left_fit[1]) ** 2) ** 1.5) \\\n",
    "                    / np.absolute(2 * left_fit[0])\n",
    "    right_curverad = ((1 + (2 * right_fit[0] * y_eval + right_fit[1]) ** 2) ** 1.5) \\\n",
    "                     / np.absolute(2 * right_fit[0])\n",
    "    print(\"Left lane curve radius: \", left_curverad)\n",
    "    print(\"Right lane curve radius: \", right_curverad)\n",
    "\n",
    "    # TODO: Det vehicle position wrt centre\n",
    "\n",
    "    ## 7. Warp the detected lane boundaries back onto the original image.\n",
    "\n",
    "    polyfit_left = draw_poly(blank_canvas, lane_poly, 30)\n",
    "    polyfit_drawn = draw_poly(polyfit_left, lane_poly, 30)\n",
    "    # plt.imshow(polyfit_drawn, cmap=\"gray\")\n",
    "\n",
    "    lane_lines = cv2.warpPerspective(polyfit_drawn, Minv, (imshape[1], imshape[0]), flags=cv2.INTER_LINEAR)\n",
    "    # plt.imshow(lane_lines, cmap=\"gray\")\n",
    "\n",
    "\n",
    "    # Convert to colour\n",
    "    lane_line_colour = cv2.cvtColor(lane_lines.astype(np.uint8), cv2.COLOR_GRAY2RGB)\n",
    "\n",
    "    combined_img = cv2.add(lane_line_colour, image)\n",
    "    plt.imshow(combined_img)\n",
    "    return combined_img\n",
    "\n",
    "image_pipeline(\"test_images/test2.jpg\")"
   ]
  }
 ],
 "metadata": {
  "kernelspec": {
   "display_name": "Python 3",
   "language": "python",
   "name": "python3"
  },
  "language_info": {
   "codemirror_mode": {
    "name": "ipython",
    "version": 3
   },
   "file_extension": ".py",
   "mimetype": "text/x-python",
   "name": "python",
   "nbconvert_exporter": "python",
   "pygments_lexer": "ipython3",
   "version": "3.5.1"
  }
 },
 "nbformat": 4,
 "nbformat_minor": 0
}
