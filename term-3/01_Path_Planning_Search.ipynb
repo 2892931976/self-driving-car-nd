{
 "cells": [
  {
   "cell_type": "markdown",
   "metadata": {},
   "source": [
    "# Path Planning\n",
    "\n",
    "This course can be found for free [here](https://www.udacity.com/course/artificial-intelligence-for-robotics--cs373).\n",
    "\n",
    "Three steps:\n",
    "* **Prediction**: Estimating what other vehicles on a road might do next\n",
    "* **Behaviour**: Decide what maneuver to do next given estimates from prediction\n",
    "* **Trajectory**: Select path to follow given chosen behaviour.\n",
    "\n",
    "## 1. Discrete Path Planning\n",
    "\n",
    "- Motivation: Worth learning about (1) conceptually and (2) practically because discretising the world makes it easier and computationally faster to solve path planning problems\n",
    "\n",
    "### 1.1 Motion Planning\n",
    "\n",
    "Problem: Want to get from A to B.\n",
    "\n",
    "§§![](imgs/1.1.png)\n",
    "- Difficult because mechanics within the path, e.g. lane shifting, might be risky and so you might not choose the most direct path.\n",
    "\n",
    "\n",
    "Given: Map, Starting location, goal location, cost function,\n",
    "Find: minimum cost path.\n",
    "\n",
    "Varying cost functions, e.g.:\n",
    "- Count left turn + and move one step forward as one move vs only left turn on the spot as one move\n",
    "- Left turns may be more expensive than right turns (because of congestion or traffic rules)\n",
    "\n",
    "1.2\n",
    "\n",
    "### 1.2 Path planning as a search problem\n",
    "\n",
    "Without uncertainty:\n",
    "- Find the shortest sequence of actions that leads robot from start state to end state\n",
    "\n",
    "1.3\n",
    "\n",
    "Writing a search program\n",
    "\n",
    "Open List: List of states (we've been in?) -> expand states in open list. \n",
    "    - G-value (of a state): number of expansions it took to get to each state in the open list\n",
    "- Expand states with the smallest g-value "
   ]
  }
 ],
 "metadata": {
  "kernelspec": {
   "display_name": "Python 3",
   "language": "python",
   "name": "python3"
  },
  "language_info": {
   "codemirror_mode": {
    "name": "ipython",
    "version": 3
   },
   "file_extension": ".py",
   "mimetype": "text/x-python",
   "name": "python",
   "nbconvert_exporter": "python",
   "pygments_lexer": "ipython3",
   "version": "3.6.0"
  }
 },
 "nbformat": 4,
 "nbformat_minor": 2
}
